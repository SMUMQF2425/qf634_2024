{
 "cells": [
  {
   "cell_type": "markdown",
   "id": "1bb5f35a-eaec-4a11-9718-807feef12fc6",
   "metadata": {},
   "source": [
    "# Task\n",
    "The data is related with direct marketing campaigns of a Portuguese banking institution. The marketing campaigns were based on phone calls. Often, more than one contact to the same client was required, in order to access if the product (bank term deposit) would be (or not) subscribed. Data set is public – acknowledgement: S. Moro, R. Laureano and P . Cortez. Using Data Mining for Bank Direct Marketing: An Application of the CRISP-DM Methodology. In P . Novais et al. (Eds.), Proceedings of the European Simulation and Modelling Conference - ESM'2011, pp. 117-121, Guimarães, Portugal, October, 2011. EUROSIS.\n",
    "\n",
    "Download from `banking3.csv`. This is a simplified version of the original data set. There are 18 features and one label variable y. y = 1 denotes success in getting client to put in a term deposit in that particular marketing campaign.\n",
    "\n",
    "y = 0 denotes failure to do so in that particular marketing campaign. The features are self-explanatory. Many variables are dummy variables, e.g., job_blue-collar = 1 if the potential client is a blue-collar worker, 0 otherwise. Default_no = 1 means client has no default in loans before, 0 otherwise. Contact_cellular = 1 if it is contact by handphone (not land line telephone) and 0 otherwise. Month_apr = 1 means last contact timing is previous April, 0 otherwise, and so on.\n",
    "\n",
    "Poutcome_failure = 1 means client was approached in previous marketing campaign and there was failure to secure a deposit from client, 0 means client was not in previous campaign listing.\n",
    "\n",
    "Poutcome_success = 1 means client was approached in previous marketing campaign and there was success to secure a deposit from client, 0 means client was not in previous campaign listing.\n",
    "\n",
    "Euribor3m is the 3-month Euribor interest rate prevailing. The data was captured over several years over many campaigns, so the Euribor rates vary over the data points depending on when is the latest campaign.\n",
    "\n",
    "All the features refer to those in that particular campaign when y = 1 or 0 was noted."
   ]
  },
  {
   "cell_type": "code",
   "execution_count": 2,
   "id": "0bef45cd",
   "metadata": {},
   "outputs": [],
   "source": [
    "### Data from [Moro et al., 2014] S. Moro, P. Cortez and P. Rita. A Data-Driven Approach to Predict the Success of \n",
    "###   Bank Telemarketing. Decision Support Systems, Elsevier, 62:22-31, June 2014\n",
    "### Codes from Towards Data Science web article -- by Susan Li, 2017\n",
    "### The dataset provides the bank customers’ information. It includes 41,188 records and 21 fields.\n",
    "### Direct marketing campaigns (phone calls) of a Portuguese banking institution. The classification goal is to predict \n",
    "###    whether the client will subscribe (1/0) to a term deposit (variable y). Subscribe (Yes) == 1. No == 0.\n",
    "### The data is a shortened version\n",
    "\n",
    "import pandas as pd\n",
    "import numpy as np\n",
    "from sklearn import preprocessing\n",
    "import matplotlib.pyplot as plt \n",
    "plt.rc(\"font\", size=14)\n",
    "from sklearn.linear_model import LogisticRegression\n",
    "from sklearn.model_selection import train_test_split\n",
    "import seaborn as sns\n",
    "sns.set(style=\"white\")\n",
    "sns.set(style=\"whitegrid\", color_codes=True)"
   ]
  },
  {
   "cell_type": "code",
   "execution_count": 3,
   "id": "a246148c",
   "metadata": {},
   "outputs": [
    {
     "name": "stdout",
     "output_type": "stream",
     "text": [
      "(41188, 20)\n",
      "['Unnamed: 0', 'euribor3m', 'job_blue-collar', 'job_housemaid', 'marital_single', 'education_illiterate', 'default_no', 'contact_cellular', 'month_apr', 'month_aug', 'month_dec', 'month_jul', 'month_jun', 'month_mar', 'month_may', 'month_nov', 'month_oct', 'poutcome_failure', 'poutcome_success', 'y']\n"
     ]
    }
   ],
   "source": [
    "data=pd.read_csv('banking3.csv',header=0)\n",
    "data=data.dropna()\n",
    "print(data.shape)\n",
    "print(list(data.columns))"
   ]
  },
  {
   "cell_type": "code",
   "execution_count": 4,
   "id": "dc8374be",
   "metadata": {},
   "outputs": [
    {
     "data": {
      "text/html": [
       "<div>\n",
       "<style scoped>\n",
       "    .dataframe tbody tr th:only-of-type {\n",
       "        vertical-align: middle;\n",
       "    }\n",
       "\n",
       "    .dataframe tbody tr th {\n",
       "        vertical-align: top;\n",
       "    }\n",
       "\n",
       "    .dataframe thead th {\n",
       "        text-align: right;\n",
       "    }\n",
       "</style>\n",
       "<table border=\"1\" class=\"dataframe\">\n",
       "  <thead>\n",
       "    <tr style=\"text-align: right;\">\n",
       "      <th></th>\n",
       "      <th>Unnamed: 0</th>\n",
       "      <th>euribor3m</th>\n",
       "      <th>job_blue-collar</th>\n",
       "      <th>job_housemaid</th>\n",
       "      <th>marital_single</th>\n",
       "      <th>education_illiterate</th>\n",
       "      <th>default_no</th>\n",
       "      <th>contact_cellular</th>\n",
       "      <th>month_apr</th>\n",
       "      <th>month_aug</th>\n",
       "      <th>month_dec</th>\n",
       "      <th>month_jul</th>\n",
       "      <th>month_jun</th>\n",
       "      <th>month_mar</th>\n",
       "      <th>month_may</th>\n",
       "      <th>month_nov</th>\n",
       "      <th>month_oct</th>\n",
       "      <th>poutcome_failure</th>\n",
       "      <th>poutcome_success</th>\n",
       "      <th>y</th>\n",
       "    </tr>\n",
       "  </thead>\n",
       "  <tbody>\n",
       "    <tr>\n",
       "      <th>0</th>\n",
       "      <td>0</td>\n",
       "      <td>4.963</td>\n",
       "      <td>1</td>\n",
       "      <td>0</td>\n",
       "      <td>0</td>\n",
       "      <td>0</td>\n",
       "      <td>0</td>\n",
       "      <td>1</td>\n",
       "      <td>0</td>\n",
       "      <td>1</td>\n",
       "      <td>0</td>\n",
       "      <td>0</td>\n",
       "      <td>0</td>\n",
       "      <td>0</td>\n",
       "      <td>0</td>\n",
       "      <td>0</td>\n",
       "      <td>0</td>\n",
       "      <td>0</td>\n",
       "      <td>0</td>\n",
       "      <td>0</td>\n",
       "    </tr>\n",
       "    <tr>\n",
       "      <th>1</th>\n",
       "      <td>1</td>\n",
       "      <td>4.021</td>\n",
       "      <td>0</td>\n",
       "      <td>0</td>\n",
       "      <td>0</td>\n",
       "      <td>0</td>\n",
       "      <td>1</td>\n",
       "      <td>1</td>\n",
       "      <td>0</td>\n",
       "      <td>0</td>\n",
       "      <td>0</td>\n",
       "      <td>0</td>\n",
       "      <td>0</td>\n",
       "      <td>0</td>\n",
       "      <td>0</td>\n",
       "      <td>1</td>\n",
       "      <td>0</td>\n",
       "      <td>0</td>\n",
       "      <td>0</td>\n",
       "      <td>0</td>\n",
       "    </tr>\n",
       "    <tr>\n",
       "      <th>2</th>\n",
       "      <td>2</td>\n",
       "      <td>0.729</td>\n",
       "      <td>0</td>\n",
       "      <td>0</td>\n",
       "      <td>1</td>\n",
       "      <td>0</td>\n",
       "      <td>1</td>\n",
       "      <td>1</td>\n",
       "      <td>0</td>\n",
       "      <td>0</td>\n",
       "      <td>0</td>\n",
       "      <td>0</td>\n",
       "      <td>1</td>\n",
       "      <td>0</td>\n",
       "      <td>0</td>\n",
       "      <td>0</td>\n",
       "      <td>0</td>\n",
       "      <td>0</td>\n",
       "      <td>1</td>\n",
       "      <td>1</td>\n",
       "    </tr>\n",
       "    <tr>\n",
       "      <th>3</th>\n",
       "      <td>3</td>\n",
       "      <td>1.405</td>\n",
       "      <td>0</td>\n",
       "      <td>0</td>\n",
       "      <td>0</td>\n",
       "      <td>0</td>\n",
       "      <td>1</td>\n",
       "      <td>1</td>\n",
       "      <td>1</td>\n",
       "      <td>0</td>\n",
       "      <td>0</td>\n",
       "      <td>0</td>\n",
       "      <td>0</td>\n",
       "      <td>0</td>\n",
       "      <td>0</td>\n",
       "      <td>0</td>\n",
       "      <td>0</td>\n",
       "      <td>0</td>\n",
       "      <td>0</td>\n",
       "      <td>0</td>\n",
       "    </tr>\n",
       "    <tr>\n",
       "      <th>4</th>\n",
       "      <td>4</td>\n",
       "      <td>0.869</td>\n",
       "      <td>0</td>\n",
       "      <td>0</td>\n",
       "      <td>0</td>\n",
       "      <td>0</td>\n",
       "      <td>1</td>\n",
       "      <td>1</td>\n",
       "      <td>0</td>\n",
       "      <td>1</td>\n",
       "      <td>0</td>\n",
       "      <td>0</td>\n",
       "      <td>0</td>\n",
       "      <td>0</td>\n",
       "      <td>0</td>\n",
       "      <td>0</td>\n",
       "      <td>0</td>\n",
       "      <td>0</td>\n",
       "      <td>1</td>\n",
       "      <td>1</td>\n",
       "    </tr>\n",
       "  </tbody>\n",
       "</table>\n",
       "</div>"
      ],
      "text/plain": [
       "   Unnamed: 0  euribor3m  job_blue-collar  job_housemaid  marital_single  \\\n",
       "0           0      4.963                1              0               0   \n",
       "1           1      4.021                0              0               0   \n",
       "2           2      0.729                0              0               1   \n",
       "3           3      1.405                0              0               0   \n",
       "4           4      0.869                0              0               0   \n",
       "\n",
       "   education_illiterate  default_no  contact_cellular  month_apr  month_aug  \\\n",
       "0                     0           0                 1          0          1   \n",
       "1                     0           1                 1          0          0   \n",
       "2                     0           1                 1          0          0   \n",
       "3                     0           1                 1          1          0   \n",
       "4                     0           1                 1          0          1   \n",
       "\n",
       "   month_dec  month_jul  month_jun  month_mar  month_may  month_nov  \\\n",
       "0          0          0          0          0          0          0   \n",
       "1          0          0          0          0          0          1   \n",
       "2          0          0          1          0          0          0   \n",
       "3          0          0          0          0          0          0   \n",
       "4          0          0          0          0          0          0   \n",
       "\n",
       "   month_oct  poutcome_failure  poutcome_success  y  \n",
       "0          0                 0                 0  0  \n",
       "1          0                 0                 0  0  \n",
       "2          0                 0                 1  1  \n",
       "3          0                 0                 0  0  \n",
       "4          0                 0                 1  1  "
      ]
     },
     "execution_count": 4,
     "metadata": {},
     "output_type": "execute_result"
    }
   ],
   "source": [
    "data.head()\n",
    "###  dataset provides the bank customers’ information. It includes 41,188 records and 21 fields."
   ]
  },
  {
   "cell_type": "code",
   "execution_count": 5,
   "id": "a31ced0e",
   "metadata": {},
   "outputs": [
    {
     "data": {
      "text/plain": [
       "y\n",
       "0    36548\n",
       "1     4640\n",
       "Name: count, dtype: int64"
      ]
     },
     "execution_count": 5,
     "metadata": {},
     "output_type": "execute_result"
    }
   ],
   "source": [
    "### exploring the data/ .value_counts -- Return a Series containing counts of unique values.\n",
    "data['y'].value_counts()"
   ]
  },
  {
   "cell_type": "code",
   "execution_count": 6,
   "id": "fc78354f",
   "metadata": {},
   "outputs": [
    {
     "name": "stdout",
     "output_type": "stream",
     "text": [
      "percentage of no subscription is 88.73458288821988\n",
      "percentage of subscription 11.265417111780131\n"
     ]
    }
   ],
   "source": [
    "count_no_sub = len(data[data['y']==0])\n",
    "count_sub = len(data[data['y']==1])\n",
    "pct_of_no_sub = count_no_sub/(count_no_sub+count_sub)\n",
    "print(\"percentage of no subscription is\", pct_of_no_sub*100)\n",
    "pct_of_sub = count_sub/(count_no_sub+count_sub)\n",
    "print(\"percentage of subscription\", pct_of_sub*100)"
   ]
  },
  {
   "cell_type": "code",
   "execution_count": 7,
   "id": "e3ec6c1a",
   "metadata": {},
   "outputs": [
    {
     "data": {
      "text/html": [
       "<div>\n",
       "<style scoped>\n",
       "    .dataframe tbody tr th:only-of-type {\n",
       "        vertical-align: middle;\n",
       "    }\n",
       "\n",
       "    .dataframe tbody tr th {\n",
       "        vertical-align: top;\n",
       "    }\n",
       "\n",
       "    .dataframe thead th {\n",
       "        text-align: right;\n",
       "    }\n",
       "</style>\n",
       "<table border=\"1\" class=\"dataframe\">\n",
       "  <thead>\n",
       "    <tr style=\"text-align: right;\">\n",
       "      <th></th>\n",
       "      <th>Unnamed: 0</th>\n",
       "      <th>euribor3m</th>\n",
       "      <th>job_blue-collar</th>\n",
       "      <th>job_housemaid</th>\n",
       "      <th>marital_single</th>\n",
       "      <th>education_illiterate</th>\n",
       "      <th>default_no</th>\n",
       "      <th>contact_cellular</th>\n",
       "      <th>month_apr</th>\n",
       "      <th>month_aug</th>\n",
       "      <th>month_dec</th>\n",
       "      <th>month_jul</th>\n",
       "      <th>month_jun</th>\n",
       "      <th>month_mar</th>\n",
       "      <th>month_may</th>\n",
       "      <th>month_nov</th>\n",
       "      <th>month_oct</th>\n",
       "      <th>poutcome_failure</th>\n",
       "      <th>poutcome_success</th>\n",
       "    </tr>\n",
       "    <tr>\n",
       "      <th>y</th>\n",
       "      <th></th>\n",
       "      <th></th>\n",
       "      <th></th>\n",
       "      <th></th>\n",
       "      <th></th>\n",
       "      <th></th>\n",
       "      <th></th>\n",
       "      <th></th>\n",
       "      <th></th>\n",
       "      <th></th>\n",
       "      <th></th>\n",
       "      <th></th>\n",
       "      <th></th>\n",
       "      <th></th>\n",
       "      <th></th>\n",
       "      <th></th>\n",
       "      <th></th>\n",
       "      <th></th>\n",
       "      <th></th>\n",
       "    </tr>\n",
       "  </thead>\n",
       "  <tbody>\n",
       "    <tr>\n",
       "      <th>0</th>\n",
       "      <td>20619.617954</td>\n",
       "      <td>3.811491</td>\n",
       "      <td>0.235745</td>\n",
       "      <td>0.026103</td>\n",
       "      <td>0.272190</td>\n",
       "      <td>0.000383</td>\n",
       "      <td>0.776814</td>\n",
       "      <td>0.609910</td>\n",
       "      <td>0.057267</td>\n",
       "      <td>0.151116</td>\n",
       "      <td>0.002545</td>\n",
       "      <td>0.178532</td>\n",
       "      <td>0.130212</td>\n",
       "      <td>0.007388</td>\n",
       "      <td>0.352495</td>\n",
       "      <td>0.100826</td>\n",
       "      <td>0.011027</td>\n",
       "      <td>0.099787</td>\n",
       "      <td>0.013106</td>\n",
       "    </tr>\n",
       "    <tr>\n",
       "      <th>1</th>\n",
       "      <td>20387.776078</td>\n",
       "      <td>2.123135</td>\n",
       "      <td>0.137500</td>\n",
       "      <td>0.022845</td>\n",
       "      <td>0.349138</td>\n",
       "      <td>0.000862</td>\n",
       "      <td>0.904526</td>\n",
       "      <td>0.830388</td>\n",
       "      <td>0.116164</td>\n",
       "      <td>0.141164</td>\n",
       "      <td>0.019181</td>\n",
       "      <td>0.139871</td>\n",
       "      <td>0.120474</td>\n",
       "      <td>0.059483</td>\n",
       "      <td>0.190948</td>\n",
       "      <td>0.089655</td>\n",
       "      <td>0.067888</td>\n",
       "      <td>0.130388</td>\n",
       "      <td>0.192672</td>\n",
       "    </tr>\n",
       "  </tbody>\n",
       "</table>\n",
       "</div>"
      ],
      "text/plain": [
       "     Unnamed: 0  euribor3m  job_blue-collar  job_housemaid  marital_single  \\\n",
       "y                                                                            \n",
       "0  20619.617954   3.811491         0.235745       0.026103        0.272190   \n",
       "1  20387.776078   2.123135         0.137500       0.022845        0.349138   \n",
       "\n",
       "   education_illiterate  default_no  contact_cellular  month_apr  month_aug  \\\n",
       "y                                                                             \n",
       "0              0.000383    0.776814          0.609910   0.057267   0.151116   \n",
       "1              0.000862    0.904526          0.830388   0.116164   0.141164   \n",
       "\n",
       "   month_dec  month_jul  month_jun  month_mar  month_may  month_nov  \\\n",
       "y                                                                     \n",
       "0   0.002545   0.178532   0.130212   0.007388   0.352495   0.100826   \n",
       "1   0.019181   0.139871   0.120474   0.059483   0.190948   0.089655   \n",
       "\n",
       "   month_oct  poutcome_failure  poutcome_success  \n",
       "y                                                 \n",
       "0   0.011027          0.099787          0.013106  \n",
       "1   0.067888          0.130388          0.192672  "
      ]
     },
     "execution_count": 7,
     "metadata": {},
     "output_type": "execute_result"
    }
   ],
   "source": [
    "### Note % of Yes, No imbalanced -- far too many Nos\n",
    "### Explore features mean of those who bought the term deposit (y=1) and those who did not (y=0)\n",
    "data.groupby('y').mean()"
   ]
  },
  {
   "cell_type": "code",
   "execution_count": 8,
   "id": "fae143e9",
   "metadata": {},
   "outputs": [
    {
     "data": {
      "text/plain": [
       "(41188,)"
      ]
     },
     "execution_count": 8,
     "metadata": {},
     "output_type": "execute_result"
    }
   ],
   "source": [
    "y=data['y']  ### converts column var to a pandas core series \n",
    "y.shape"
   ]
  },
  {
   "cell_type": "code",
   "execution_count": 9,
   "id": "4cb71d9f",
   "metadata": {},
   "outputs": [
    {
     "data": {
      "text/plain": [
       "(41188, 18)"
      ]
     },
     "execution_count": 9,
     "metadata": {},
     "output_type": "execute_result"
    }
   ],
   "source": [
    "X=data.iloc[:,1:19]\n",
    "X.shape"
   ]
  },
  {
   "cell_type": "code",
   "execution_count": 10,
   "id": "480ab8ff",
   "metadata": {},
   "outputs": [
    {
     "name": "stdout",
     "output_type": "stream",
     "text": [
      "       euribor3m  job_blue-collar  job_housemaid  marital_single  \\\n",
      "0          4.963                1              0               0   \n",
      "1          4.021                0              0               0   \n",
      "2          0.729                0              0               1   \n",
      "3          1.405                0              0               0   \n",
      "4          0.869                0              0               0   \n",
      "...          ...              ...            ...             ...   \n",
      "41183      4.866                0              0               0   \n",
      "41184      4.860                0              1               0   \n",
      "41185      4.857                0              0               1   \n",
      "41186      0.742                0              0               0   \n",
      "41187      4.859                0              0               1   \n",
      "\n",
      "       education_illiterate  default_no  contact_cellular  month_apr  \\\n",
      "0                         0           0                 1          0   \n",
      "1                         0           1                 1          0   \n",
      "2                         0           1                 1          0   \n",
      "3                         0           1                 1          1   \n",
      "4                         0           1                 1          0   \n",
      "...                     ...         ...               ...        ...   \n",
      "41183                     0           0                 0          0   \n",
      "41184                     0           0                 0          0   \n",
      "41185                     0           0                 0          0   \n",
      "41186                     0           1                 0          0   \n",
      "41187                     0           1                 0          0   \n",
      "\n",
      "       month_aug  month_dec  month_jul  month_jun  month_mar  month_may  \\\n",
      "0              1          0          0          0          0          0   \n",
      "1              0          0          0          0          0          0   \n",
      "2              0          0          0          1          0          0   \n",
      "3              0          0          0          0          0          0   \n",
      "4              1          0          0          0          0          0   \n",
      "...          ...        ...        ...        ...        ...        ...   \n",
      "41183          0          0          0          1          0          0   \n",
      "41184          0          0          0          0          0          1   \n",
      "41185          0          0          0          0          0          1   \n",
      "41186          0          0          0          0          0          0   \n",
      "41187          0          0          0          0          0          1   \n",
      "\n",
      "       month_nov  month_oct  poutcome_failure  poutcome_success  \n",
      "0              0          0                 0                 0  \n",
      "1              1          0                 0                 0  \n",
      "2              0          0                 0                 1  \n",
      "3              0          0                 0                 0  \n",
      "4              0          0                 0                 1  \n",
      "...          ...        ...               ...               ...  \n",
      "41183          0          0                 0                 0  \n",
      "41184          0          0                 0                 0  \n",
      "41185          0          0                 0                 0  \n",
      "41186          0          1                 0                 0  \n",
      "41187          0          0                 0                 0  \n",
      "\n",
      "[41188 rows x 18 columns]\n"
     ]
    }
   ],
   "source": [
    "print(X)"
   ]
  },
  {
   "cell_type": "markdown",
   "id": "3f1b7054-a8af-433b-8220-3f9008549c54",
   "metadata": {},
   "source": [
    "Perform a logistic regression as follows:\n",
    "```\n",
    "from sklearn.linear_model import LogisticRegression\n",
    "from sklearn import metrics\n",
    "X_train, X_test, y_train, y_test = train_test_split(X, y, test_size=0.3, random_state=0)\n",
    "logreg = LogisticRegression()\n",
    "Lresult=logreg.fit(X_train, y_train)\n",
    "```\n",
    "and so on. Note that a validation data set is not used in this question."
   ]
  },
  {
   "cell_type": "code",
   "execution_count": 12,
   "id": "63187f6c",
   "metadata": {},
   "outputs": [
    {
     "name": "stdout",
     "output_type": "stream",
     "text": [
      "Optimization terminated successfully.\n",
      "         Current function value: 0.282267\n",
      "         Iterations 7\n",
      "                           Logit Regression Results                           \n",
      "==============================================================================\n",
      "Dep. Variable:                      y   No. Observations:                41188\n",
      "Model:                          Logit   Df Residuals:                    41170\n",
      "Method:                           MLE   Df Model:                           17\n",
      "Date:                Mon, 25 Nov 2024   Pseudo R-squ.:                  0.1982\n",
      "Time:                        15:18:30   Log-Likelihood:                -11626.\n",
      "converged:                       True   LL-Null:                       -14499.\n",
      "Covariance Type:            nonrobust   LLR p-value:                     0.000\n",
      "========================================================================================\n",
      "                           coef    std err          z      P>|z|      [0.025      0.975]\n",
      "----------------------------------------------------------------------------------------\n",
      "euribor3m               -0.5243      0.013    -40.891      0.000      -0.549      -0.499\n",
      "job_blue-collar         -0.2374      0.049     -4.856      0.000      -0.333      -0.142\n",
      "job_housemaid           -0.1077      0.118     -0.914      0.361      -0.339       0.123\n",
      "marital_single           0.0427      0.037      1.140      0.254      -0.031       0.116\n",
      "education_illiterate     0.7919      0.651      1.216      0.224      -0.485       2.069\n",
      "default_no               0.1552      0.048      3.204      0.001       0.060       0.250\n",
      "contact_cellular         0.0806      0.047      1.725      0.085      -0.011       0.172\n",
      "month_apr               -0.8210      0.078    -10.481      0.000      -0.974      -0.667\n",
      "month_aug               -0.4723      0.087     -5.436      0.000      -0.643      -0.302\n",
      "month_dec               -0.0649      0.169     -0.384      0.701      -0.397       0.267\n",
      "month_jul               -0.2065      0.091     -2.257      0.024      -0.386      -0.027\n",
      "month_jun               -0.3931      0.080     -4.922      0.000      -0.550      -0.237\n",
      "month_mar                0.3085      0.109      2.842      0.004       0.096       0.521\n",
      "month_may               -1.4434      0.070    -20.619      0.000      -1.581      -1.306\n",
      "month_nov               -0.6490      0.093     -6.976      0.000      -0.831      -0.467\n",
      "month_oct               -0.0721      0.100     -0.720      0.472      -0.268       0.124\n",
      "poutcome_failure        -0.4147      0.052     -7.926      0.000      -0.517      -0.312\n",
      "poutcome_success         1.4818      0.066     22.529      0.000       1.353       1.611\n",
      "========================================================================================\n"
     ]
    }
   ],
   "source": [
    "### now perform logit regression using statsmodel packaage\n",
    "### using statsmodel here (and sklearn logistic regression later) more conveniently provides regression estimates\n",
    "###   and p-values so exceedingly insignificant features can be discarded in logistic reg/due to redundancy or multicoll\n",
    "import statsmodels.api as sm\n",
    "logit_model=sm.Logit(y,X)\n",
    "result=logit_model.fit()\n",
    "print(result.summary())\n",
    "### as there are many categorical vars - dummies - we leave out adding a constant"
   ]
  },
  {
   "cell_type": "code",
   "execution_count": 13,
   "id": "224597b1",
   "metadata": {},
   "outputs": [],
   "source": [
    "from sklearn.linear_model import LogisticRegression\n",
    "from sklearn.model_selection import train_test_split\n",
    "X_train, X_test, y_train, y_test = train_test_split(X, y, test_size=0.3, random_state=0)\n",
    "logreg = LogisticRegression()\n",
    "Lresult=logreg.fit(X_train, y_train)"
   ]
  },
  {
   "cell_type": "code",
   "execution_count": 14,
   "id": "25986bd9",
   "metadata": {},
   "outputs": [
    {
     "name": "stdout",
     "output_type": "stream",
     "text": [
      "Accuracy of logistic regression classifier on test set: 0.90\n"
     ]
    }
   ],
   "source": [
    "y_pred = logreg.predict(X_test)\n",
    "print('Accuracy of logistic regression classifier on test set: {:.2f}'.format(logreg.score(X_test, y_test)))"
   ]
  },
  {
   "cell_type": "code",
   "execution_count": 15,
   "id": "3e479904",
   "metadata": {},
   "outputs": [
    {
     "name": "stdout",
     "output_type": "stream",
     "text": [
      "[[-0.50500418 -0.22981685 -0.17915562  0.05415056  0.27616133  0.27470228\n",
      "   0.13863229 -0.62756319 -0.35992966 -0.1767201  -0.06267282 -0.15093429\n",
      "   0.36210547 -1.25209664 -0.46773905  0.10904289 -0.35778423  1.4653542 ]] [-0.37612157]\n"
     ]
    }
   ],
   "source": [
    "print(Lresult.coef_, Lresult.intercept_)"
   ]
  },
  {
   "cell_type": "markdown",
   "id": "1d2c761d-4b2a-43f7-8cda-e506a415cecf",
   "metadata": {},
   "source": [
    "Report the confusion matrix, the classification report, and show the Area under the ROC Curve.\n",
    "(Follow format of the MCQ in answering the above.)"
   ]
  },
  {
   "cell_type": "code",
   "execution_count": 17,
   "id": "dda9ab89",
   "metadata": {},
   "outputs": [
    {
     "name": "stdout",
     "output_type": "stream",
     "text": [
      "[[10880   101]\n",
      " [ 1125   251]]\n"
     ]
    }
   ],
   "source": [
    "from sklearn.metrics import confusion_matrix\n",
    "confusion_matrix = confusion_matrix(y_test, y_pred)\n",
    "print(confusion_matrix)\n",
    "### Note the codes in sklearn confusion_matrix are written so the \n",
    "###   first row is for y=0 (actual positives), second row for y=1 (actual negatives)"
   ]
  },
  {
   "cell_type": "code",
   "execution_count": 18,
   "id": "d2a5525f",
   "metadata": {},
   "outputs": [
    {
     "name": "stdout",
     "output_type": "stream",
     "text": [
      "              precision    recall  f1-score   support\n",
      "\n",
      "           0       0.91      0.99      0.95     10981\n",
      "           1       0.71      0.18      0.29      1376\n",
      "\n",
      "    accuracy                           0.90     12357\n",
      "   macro avg       0.81      0.59      0.62     12357\n",
      "weighted avg       0.88      0.90      0.87     12357\n",
      "\n"
     ]
    }
   ],
   "source": [
    "from sklearn.metrics import classification_report\n",
    "print(classification_report(y_test, y_pred))"
   ]
  },
  {
   "cell_type": "code",
   "execution_count": 19,
   "id": "a223d2f5",
   "metadata": {},
   "outputs": [
    {
     "data": {
      "text/plain": [
       "0.7905454228021762"
      ]
     },
     "execution_count": 19,
     "metadata": {},
     "output_type": "execute_result"
    }
   ],
   "source": [
    "import sklearn.metrics as metrics\n",
    "# calculate the fpr and tpr for all thresholds of the classification\n",
    "preds_logreg = logreg.predict_proba(X_test)[:,1]\n",
    "\n",
    "fpr, tpr, thresholds = metrics.roc_curve(y_test, preds_logreg)  \n",
    "    # matches y_test of 1's and 0's versus pred prob of 1's for each of the 197 test cases\n",
    "    # sklearn.metrics.roc_curve(y_true, y_score,...) requires y_true as 0,1 input and y_score as prob inputs\n",
    "    # this metrics.roc_curve returns fpr, tpr, thresholds (Decreasing thresholds used to compute fpr and tpr)\n",
    "roc_auc_logreg = metrics.auc(fpr, tpr)\n",
    "    # sklearn.metrics.auc(fpr,tpr) returns AUC using trapezoidal rule\n",
    "    # Compute Area Under the Curve (AUC) using the trapezoidal rule.\n",
    "    # This is a general function, given points on a curve. For computing the area under the ROC-curve, see roc_auc_score. \n",
    "roc_auc_logreg"
   ]
  },
  {
   "cell_type": "code",
   "execution_count": 20,
   "id": "2c220491",
   "metadata": {},
   "outputs": [
    {
     "data": {
      "image/png": "[encoded data removed]",
      "text/plain": [
       "<Figure size 640x480 with 1 Axes>"
      ]
     },
     "metadata": {},
     "output_type": "display_data"
    }
   ],
   "source": [
    "import matplotlib.pyplot as plt\n",
    "plt.rc(\"font\", size=14)\n",
    "plt.title('Receiver Operating Characteristic')\n",
    "plt.plot(fpr, tpr, 'b', label = 'AUC = %0.2f' % roc_auc_logreg)\n",
    "plt.legend(loc = 'lower right')\n",
    "plt.plot([0, 1], [0, 1],'r--')\n",
    "plt.xlim([0, 1])\n",
    "plt.ylim([0, 1])\n",
    "plt.ylabel('True Positive Rate')\n",
    "plt.xlabel('False Positive Rate')\n",
    "plt.show()"
   ]
  },
  {
   "cell_type": "code",
   "execution_count": 21,
   "id": "8aad715e",
   "metadata": {},
   "outputs": [
    {
     "data": {
      "text/plain": [
       "0.5866075427853183"
      ]
     },
     "execution_count": 21,
     "metadata": {},
     "output_type": "execute_result"
    }
   ],
   "source": [
    "### Suppose we rn the following instead of [16]\n",
    "from sklearn.metrics import roc_auc_score\n",
    "preds_logreg1 = logreg.predict(X_test)\n",
    "\n",
    "fpr1, tpr1, thresholds = metrics.roc_curve(y_test, preds_logreg1)  \n",
    "roc_auc_logreg1 = metrics.auc(fpr1, tpr1)\n",
    "\n",
    "roc_auc_logreg1\n",
    "\n",
    "# above can also be written as follows but without fpr1, tpr1 for plotting ROC\n",
    "#logit_roc_auc = roc_auc_score(y_test, logreg.predict(X_test))\n",
    "#print(logit_roc_auc)\n",
    "# above returns 59% of true 1 vs predicted 1 scores, not quite area under ROC%\n"
   ]
  },
  {
   "cell_type": "code",
   "execution_count": 22,
   "id": "6862574b",
   "metadata": {},
   "outputs": [
    {
     "data": {
      "image/png": "[encoded data removed]",
      "text/plain": [
       "<Figure size 640x480 with 1 Axes>"
      ]
     },
     "metadata": {},
     "output_type": "display_data"
    }
   ],
   "source": [
    "import matplotlib.pyplot as plt\n",
    "plt.rc(\"font\", size=14)\n",
    "plt.title('Receiver Operating Characteristic')\n",
    "plt.plot(fpr1, tpr1, 'b', label = 'AUC = %0.2f' % roc_auc_logreg1)\n",
    "plt.legend(loc = 'lower right')\n",
    "plt.plot([0, 1], [0, 1],'r--')\n",
    "plt.xlim([0, 1])\n",
    "plt.ylim([0, 1])\n",
    "plt.ylabel('True Positive Rate')\n",
    "plt.xlabel('False Positive Rate')\n",
    "plt.show()"
   ]
  },
  {
   "cell_type": "code",
   "execution_count": 23,
   "id": "94d6994b",
   "metadata": {},
   "outputs": [
    {
     "name": "stdout",
     "output_type": "stream",
     "text": [
      "[0.         0.18241279 1.        ]\n"
     ]
    }
   ],
   "source": [
    "print(tpr1)\n",
    "## this is under y=1: recall or TPR of 0.18241279"
   ]
  },
  {
   "cell_type": "code",
   "execution_count": 24,
   "id": "955a46a9",
   "metadata": {},
   "outputs": [
    {
     "name": "stdout",
     "output_type": "stream",
     "text": [
      "[0.         0.00919771 1.        ]\n"
     ]
    }
   ],
   "source": [
    "print(fpr1)\n",
    "## this is under y=1: FPR or FP/(TN+FP) of 101/(10880+101) = 0.00919771"
   ]
  },
  {
   "cell_type": "code",
   "execution_count": 25,
   "id": "81e537e8",
   "metadata": {},
   "outputs": [
    {
     "name": "stdout",
     "output_type": "stream",
     "text": [
      "[0 0 0 0 0 0 0 0 0 0 0 0 1 0 0 0 0 0 0 0 0 0 0 0 0 0 0 0 0 0 0 0 0 0 0 1 0\n",
      " 0 0 0 0 1 0 0 0 0 0 0 0 0 0 0 0 0 0 0 0 0 0 0 0 0 0 0 0 0 0 1 0 0 0 0 0 0\n",
      " 0 0 0 0 0 0 0 0 0 0 0 0 0 0 0 0 0 0 0 0 1 0 0 0 0 0]\n"
     ]
    }
   ],
   "source": [
    "print(preds_logreg1[0:100,]) ## this is incorrectly the \"pred prob\""
   ]
  },
  {
   "cell_type": "code",
   "execution_count": 26,
   "id": "db539a94",
   "metadata": {},
   "outputs": [],
   "source": [
    "### above plots only one point in the middle with both ends at 0.00 and 1.00. \"AUC\" is area as seen - incorrect."
   ]
  },
  {
   "cell_type": "code",
   "execution_count": 27,
   "id": "e4040593",
   "metadata": {},
   "outputs": [
    {
     "name": "stdout",
     "output_type": "stream",
     "text": [
      "[0.00000000e+00 7.26744186e-04 1.45348837e-03 ... 9.97819767e-01\n",
      " 9.97819767e-01 1.00000000e+00]\n"
     ]
    }
   ],
   "source": [
    "print(tpr)"
   ]
  },
  {
   "cell_type": "code",
   "execution_count": 28,
   "id": "ed56591c",
   "metadata": {},
   "outputs": [
    {
     "name": "stdout",
     "output_type": "stream",
     "text": [
      "[0.00000000e+00 0.00000000e+00 9.10663874e-05 ... 9.95719880e-01\n",
      " 9.99271469e-01 1.00000000e+00]\n"
     ]
    }
   ],
   "source": [
    "print(fpr)"
   ]
  }
 ],
 "metadata": {
  "kernelspec": {
   "display_name": "Python 3 (ipykernel)",
   "language": "python",
   "name": "python3"
  },
  "language_info": {
   "codemirror_mode": {
    "name": "ipython",
    "version": 3
   },
   "file_extension": ".py",
   "mimetype": "text/x-python",
   "name": "python",
   "nbconvert_exporter": "python",
   "pygments_lexer": "ipython3",
   "version": "3.12.4"
  }
 },
 "nbformat": 4,
 "nbformat_minor": 5
}
