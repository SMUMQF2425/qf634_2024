{
 "cells": [
  {
   "cell_type": "code",
   "execution_count": 1,
   "id": "0ccc5b00",
   "metadata": {},
   "outputs": [],
   "source": [
    "### This module uses Stacked LSTM 50 units and 100 epochs to predict VIX from Yahoo Finance\n",
    "import numpy as np\n",
    "import matplotlib.pyplot as plt\n",
    "import pandas as pd"
   ]
  },
  {
   "cell_type": "code",
   "execution_count": 2,
   "id": "179853b9",
   "metadata": {},
   "outputs": [
    {
     "data": {
      "text/html": [
       "<div>\n",
       "<style scoped>\n",
       "    .dataframe tbody tr th:only-of-type {\n",
       "        vertical-align: middle;\n",
       "    }\n",
       "\n",
       "    .dataframe tbody tr th {\n",
       "        vertical-align: top;\n",
       "    }\n",
       "\n",
       "    .dataframe thead th {\n",
       "        text-align: right;\n",
       "    }\n",
       "</style>\n",
       "<table border=\"1\" class=\"dataframe\">\n",
       "  <thead>\n",
       "    <tr style=\"text-align: right;\">\n",
       "      <th></th>\n",
       "      <th>Date</th>\n",
       "      <th>Open</th>\n",
       "      <th>High</th>\n",
       "      <th>Low</th>\n",
       "      <th>Close</th>\n",
       "      <th>Adj Close</th>\n",
       "      <th>Volume</th>\n",
       "    </tr>\n",
       "  </thead>\n",
       "  <tbody>\n",
       "    <tr>\n",
       "      <th>0</th>\n",
       "      <td>2/1/1990</td>\n",
       "      <td>17.240000</td>\n",
       "      <td>17.240000</td>\n",
       "      <td>17.240000</td>\n",
       "      <td>17.240000</td>\n",
       "      <td>17.240000</td>\n",
       "      <td>0</td>\n",
       "    </tr>\n",
       "    <tr>\n",
       "      <th>1</th>\n",
       "      <td>3/1/1990</td>\n",
       "      <td>18.190001</td>\n",
       "      <td>18.190001</td>\n",
       "      <td>18.190001</td>\n",
       "      <td>18.190001</td>\n",
       "      <td>18.190001</td>\n",
       "      <td>0</td>\n",
       "    </tr>\n",
       "    <tr>\n",
       "      <th>2</th>\n",
       "      <td>4/1/1990</td>\n",
       "      <td>19.219999</td>\n",
       "      <td>19.219999</td>\n",
       "      <td>19.219999</td>\n",
       "      <td>19.219999</td>\n",
       "      <td>19.219999</td>\n",
       "      <td>0</td>\n",
       "    </tr>\n",
       "    <tr>\n",
       "      <th>3</th>\n",
       "      <td>5/1/1990</td>\n",
       "      <td>20.110001</td>\n",
       "      <td>20.110001</td>\n",
       "      <td>20.110001</td>\n",
       "      <td>20.110001</td>\n",
       "      <td>20.110001</td>\n",
       "      <td>0</td>\n",
       "    </tr>\n",
       "    <tr>\n",
       "      <th>4</th>\n",
       "      <td>8/1/1990</td>\n",
       "      <td>20.260000</td>\n",
       "      <td>20.260000</td>\n",
       "      <td>20.260000</td>\n",
       "      <td>20.260000</td>\n",
       "      <td>20.260000</td>\n",
       "      <td>0</td>\n",
       "    </tr>\n",
       "  </tbody>\n",
       "</table>\n",
       "</div>"
      ],
      "text/plain": [
       "       Date       Open       High        Low      Close  Adj Close  Volume\n",
       "0  2/1/1990  17.240000  17.240000  17.240000  17.240000  17.240000       0\n",
       "1  3/1/1990  18.190001  18.190001  18.190001  18.190001  18.190001       0\n",
       "2  4/1/1990  19.219999  19.219999  19.219999  19.219999  19.219999       0\n",
       "3  5/1/1990  20.110001  20.110001  20.110001  20.110001  20.110001       0\n",
       "4  8/1/1990  20.260000  20.260000  20.260000  20.260000  20.260000       0"
      ]
     },
     "execution_count": 2,
     "metadata": {},
     "output_type": "execute_result"
    }
   ],
   "source": [
    "### import training set\n",
    "dataset=pd.read_csv('VIX.csv')\n",
    "dataset.head()"
   ]
  },
  {
   "cell_type": "code",
   "execution_count": 3,
   "id": "95022efe",
   "metadata": {},
   "outputs": [
    {
     "name": "stdout",
     "output_type": "stream",
     "text": [
      "(8270, 7) (6616, 1) (1654, 1)\n",
      "           0\n",
      "0  17.240000\n",
      "1  18.190001\n",
      "2  19.219999\n",
      "3  20.110001\n",
      "4  20.260000           0\n",
      "6611  13.82\n",
      "6612  13.56\n",
      "6613  13.95\n",
      "6614  13.10\n",
      "6615  14.12        0\n",
      "0  15.42\n",
      "1  14.09\n",
      "2  16.16\n",
      "3  15.36\n",
      "4  16.26               0\n",
      "1649  29.980000\n",
      "1650  29.690001\n",
      "1651  29.850000\n",
      "1652  28.459999\n",
      "1653  27.280001\n"
     ]
    }
   ],
   "source": [
    "training_set=dataset.iloc[0:6616,5:6].values ### keeps the Adj Close VIX\n",
    "trgsset=pd.DataFrame(training_set)\n",
    "\n",
    "test_set=dataset.iloc[6616:8270,5:6].values\n",
    "tstset=pd.DataFrame(test_set)\n",
    "\n",
    "print(dataset.shape, trgsset.shape, tstset.shape)\n",
    "print(trgsset.head(),trgsset.tail(), tstset.head(),tstset.tail())"
   ]
  },
  {
   "cell_type": "code",
   "execution_count": 4,
   "id": "0c17a245",
   "metadata": {},
   "outputs": [
    {
     "data": {
      "text/plain": [
       "(numpy.ndarray, numpy.ndarray)"
      ]
     },
     "execution_count": 4,
     "metadata": {},
     "output_type": "execute_result"
    }
   ],
   "source": [
    "### Feature Scaling\n",
    "from sklearn.preprocessing import MinMaxScaler\n",
    "sc=MinMaxScaler(feature_range=(0,1))\n",
    "training_set_scaled=sc.fit_transform(training_set)\n",
    "test_set_scaled=sc.transform(test_set)\n",
    "type(training_set_scaled), type(test_set_scaled), "
   ]
  },
  {
   "cell_type": "code",
   "execution_count": 5,
   "id": "9902d9ec",
   "metadata": {},
   "outputs": [
    {
     "name": "stdout",
     "output_type": "stream",
     "text": [
      "6616 [[0.11083158]\n",
      " [0.12410903]\n",
      " [0.13850453]\n",
      " ...\n",
      " [0.06484975]\n",
      " [0.05296995]\n",
      " [0.06722572]]\n"
     ]
    }
   ],
   "source": [
    "print(len(training_set_scaled), training_set_scaled)"
   ]
  },
  {
   "cell_type": "code",
   "execution_count": 6,
   "id": "b52dfae0",
   "metadata": {},
   "outputs": [
    {
     "name": "stdout",
     "output_type": "stream",
     "text": [
      "(6556, 60) (6556,)\n"
     ]
    }
   ],
   "source": [
    "### creating data structure with 60 time-steps and 1 output\n",
    "X_train=[]\n",
    "y_train=[]\n",
    "for i in range(60,6616):\n",
    "    X_train.append(training_set_scaled[i-60:i, 0])\n",
    "    y_train.append(training_set_scaled[i, 0])\n",
    "X_train, y_train = np.array(X_train), np.array(y_train)   \n",
    "print(X_train.shape, y_train.shape)\n",
    "X_train=np.reshape(X_train, (X_train.shape[0], X_train.shape[1],1)) \n",
    "### this step converts X_train to 3D from (1040,60) to (1040,60,1) for input to the keras app"
   ]
  },
  {
   "cell_type": "code",
   "execution_count": 7,
   "id": "9f1ab9d6",
   "metadata": {},
   "outputs": [],
   "source": [
    "from keras.models import Sequential\n",
    "from keras.layers import Dense\n",
    "from keras.layers import LSTM\n",
    "from keras.layers import Dropout"
   ]
  },
  {
   "cell_type": "code",
   "execution_count": 8,
   "id": "a526c807",
   "metadata": {},
   "outputs": [],
   "source": [
    "### Initializing RNN\n",
    "model = Sequential()"
   ]
  },
  {
   "cell_type": "code",
   "execution_count": 9,
   "id": "50364a9d",
   "metadata": {},
   "outputs": [],
   "source": [
    "### Add first LSTM layer and add Dropout Reegularization\n",
    "model.add(LSTM(units=50,return_sequences=True,input_shape=(X_train.shape[1],1))) ### Sequential reads input as 3D\n",
    "model.add(Dropout(0.0))\n",
    "### add return_sequences=True for all LSTM layers except the last one. Setting this flag to True lets Keras know that \n",
    "### LSTM output should contain all historical generated outputs along with time stamps (3D). So, next LSTM layer can work \n",
    "### further on the data. If this flag is false, then LSTM only returns last output (2D). Such output is not good enough \n",
    "### for another LSTM layer."
   ]
  },
  {
   "cell_type": "code",
   "execution_count": 10,
   "id": "53bec4fa",
   "metadata": {},
   "outputs": [],
   "source": [
    "### Add second LSTM layer and Dropout\n",
    "model.add(LSTM(units=50,return_sequences=True))\n",
    "model.add(Dropout(0.0))"
   ]
  },
  {
   "cell_type": "code",
   "execution_count": 11,
   "id": "bd6a589b",
   "metadata": {},
   "outputs": [],
   "source": [
    "### Add third LSTM layer and Dropout\n",
    "model.add(LSTM(units=50,return_sequences=True))\n",
    "model.add(Dropout(0.0))"
   ]
  },
  {
   "cell_type": "code",
   "execution_count": 12,
   "id": "c626c519",
   "metadata": {},
   "outputs": [],
   "source": [
    "### Add fourth LSTM layer and Dropout\n",
    "model.add(LSTM(units=50)) ### note: last LSTM layer does not carry argument 'return_sequences=True'\n",
    "model.add(Dropout(0.0))"
   ]
  },
  {
   "cell_type": "code",
   "execution_count": 13,
   "id": "91043c55",
   "metadata": {},
   "outputs": [],
   "source": [
    "### Add output layer\n",
    "model.add(Dense(units=1))  ### not capital \"U\"nit"
   ]
  },
  {
   "cell_type": "code",
   "execution_count": 14,
   "id": "6392b570",
   "metadata": {},
   "outputs": [],
   "source": [
    "### Compiling the RNN\n",
    "model.compile(optimizer='adam',loss='mean_squared_error')"
   ]
  },
  {
   "cell_type": "code",
   "execution_count": 15,
   "id": "816d279f",
   "metadata": {},
   "outputs": [
    {
     "name": "stdout",
     "output_type": "stream",
     "text": [
      "Epoch 1/100\n",
      "656/656 [==============================] - 22s 28ms/step - loss: 0.0023\n",
      "Epoch 2/100\n",
      "656/656 [==============================] - 18s 28ms/step - loss: 0.0012\n",
      "Epoch 3/100\n",
      "656/656 [==============================] - 19s 29ms/step - loss: 7.3927e-04\n",
      "Epoch 4/100\n",
      "656/656 [==============================] - 19s 29ms/step - loss: 6.6027e-04\n",
      "Epoch 5/100\n",
      "656/656 [==============================] - 19s 30ms/step - loss: 5.7092e-04\n",
      "Epoch 6/100\n",
      "656/656 [==============================] - 20s 30ms/step - loss: 5.3826e-04\n",
      "Epoch 7/100\n",
      "656/656 [==============================] - 20s 31ms/step - loss: 5.7721e-04\n",
      "Epoch 8/100\n",
      "656/656 [==============================] - 19s 30ms/step - loss: 5.6447e-04\n",
      "Epoch 9/100\n",
      "656/656 [==============================] - 19s 29ms/step - loss: 5.4346e-04\n",
      "Epoch 10/100\n",
      "656/656 [==============================] - 20s 30ms/step - loss: 6.0971e-04\n",
      "Epoch 11/100\n",
      "656/656 [==============================] - 19s 29ms/step - loss: 5.1078e-04\n",
      "Epoch 12/100\n",
      "656/656 [==============================] - 19s 29ms/step - loss: 5.3976e-04\n",
      "Epoch 13/100\n",
      "656/656 [==============================] - 20s 30ms/step - loss: 5.3848e-04\n",
      "Epoch 14/100\n",
      "656/656 [==============================] - 19s 30ms/step - loss: 5.2782e-04\n",
      "Epoch 15/100\n",
      "656/656 [==============================] - 20s 30ms/step - loss: 5.0471e-04\n",
      "Epoch 16/100\n",
      "656/656 [==============================] - 19s 29ms/step - loss: 5.3606e-04\n",
      "Epoch 17/100\n",
      "656/656 [==============================] - 19s 30ms/step - loss: 5.1481e-04\n",
      "Epoch 18/100\n",
      "656/656 [==============================] - 20s 30ms/step - loss: 5.1458e-04\n",
      "Epoch 19/100\n",
      "656/656 [==============================] - 20s 30ms/step - loss: 5.3608e-04\n",
      "Epoch 20/100\n",
      "656/656 [==============================] - 20s 31ms/step - loss: 5.1129e-04\n",
      "Epoch 21/100\n",
      "656/656 [==============================] - 20s 30ms/step - loss: 5.2517e-04\n",
      "Epoch 22/100\n",
      "656/656 [==============================] - 20s 30ms/step - loss: 5.1816e-04\n",
      "Epoch 23/100\n",
      "656/656 [==============================] - 20s 30ms/step - loss: 5.1592e-04\n",
      "Epoch 24/100\n",
      "656/656 [==============================] - 20s 31ms/step - loss: 5.0150e-04\n",
      "Epoch 25/100\n",
      "656/656 [==============================] - 20s 30ms/step - loss: 5.0096e-04\n",
      "Epoch 26/100\n",
      "656/656 [==============================] - 20s 31ms/step - loss: 5.1152e-04\n",
      "Epoch 27/100\n",
      "656/656 [==============================] - 21s 32ms/step - loss: 4.9289e-04\n",
      "Epoch 28/100\n",
      "656/656 [==============================] - 22s 33ms/step - loss: 4.9133e-04\n",
      "Epoch 29/100\n",
      "656/656 [==============================] - 21s 32ms/step - loss: 5.1416e-04\n",
      "Epoch 30/100\n",
      "656/656 [==============================] - 22s 33ms/step - loss: 5.1405e-04\n",
      "Epoch 31/100\n",
      "656/656 [==============================] - 22s 34ms/step - loss: 4.9255e-04\n",
      "Epoch 32/100\n",
      "656/656 [==============================] - 21s 31ms/step - loss: 5.0054e-04\n",
      "Epoch 33/100\n",
      "656/656 [==============================] - 21s 32ms/step - loss: 4.9458e-04\n",
      "Epoch 34/100\n",
      "656/656 [==============================] - 21s 32ms/step - loss: 4.9604e-04\n",
      "Epoch 35/100\n",
      "656/656 [==============================] - 21s 32ms/step - loss: 4.7977e-04\n",
      "Epoch 36/100\n",
      "656/656 [==============================] - 21s 32ms/step - loss: 4.9020e-04\n",
      "Epoch 37/100\n",
      "656/656 [==============================] - 21s 33ms/step - loss: 4.9873e-04\n",
      "Epoch 38/100\n",
      "656/656 [==============================] - 21s 32ms/step - loss: 4.9418e-04\n",
      "Epoch 39/100\n",
      "656/656 [==============================] - 21s 32ms/step - loss: 4.9059e-04\n",
      "Epoch 40/100\n",
      "656/656 [==============================] - 22s 33ms/step - loss: 4.9260e-04\n",
      "Epoch 41/100\n",
      "656/656 [==============================] - 21s 33ms/step - loss: 5.1574e-04\n",
      "Epoch 42/100\n",
      "656/656 [==============================] - 21s 33ms/step - loss: 4.9126e-04\n",
      "Epoch 43/100\n",
      "656/656 [==============================] - 22s 33ms/step - loss: 4.9842e-04\n",
      "Epoch 44/100\n",
      "656/656 [==============================] - 21s 33ms/step - loss: 4.8755e-04\n",
      "Epoch 45/100\n",
      "656/656 [==============================] - 22s 33ms/step - loss: 4.8642e-04\n",
      "Epoch 46/100\n",
      "656/656 [==============================] - 22s 33ms/step - loss: 5.0740e-04\n",
      "Epoch 47/100\n",
      "656/656 [==============================] - 22s 33ms/step - loss: 4.9793e-04\n",
      "Epoch 48/100\n",
      "656/656 [==============================] - 22s 33ms/step - loss: 4.9020e-04\n",
      "Epoch 49/100\n",
      "656/656 [==============================] - 22s 33ms/step - loss: 4.8784e-04\n",
      "Epoch 50/100\n",
      "656/656 [==============================] - 22s 33ms/step - loss: 4.7627e-04\n",
      "Epoch 51/100\n",
      "656/656 [==============================] - 22s 33ms/step - loss: 4.8771e-04\n",
      "Epoch 52/100\n",
      "656/656 [==============================] - 21s 33ms/step - loss: 4.8096e-04\n",
      "Epoch 53/100\n",
      "656/656 [==============================] - 22s 33ms/step - loss: 4.8155e-04\n",
      "Epoch 54/100\n",
      "656/656 [==============================] - 22s 33ms/step - loss: 4.8480e-04\n",
      "Epoch 55/100\n",
      "656/656 [==============================] - 21s 33ms/step - loss: 4.7996e-04\n",
      "Epoch 56/100\n",
      "656/656 [==============================] - 23s 35ms/step - loss: 4.7834e-04\n",
      "Epoch 57/100\n",
      "656/656 [==============================] - 22s 34ms/step - loss: 4.6892e-04\n",
      "Epoch 58/100\n",
      "656/656 [==============================] - 21s 33ms/step - loss: 4.9231e-04\n",
      "Epoch 59/100\n",
      "656/656 [==============================] - 22s 33ms/step - loss: 4.7777e-04\n",
      "Epoch 60/100\n",
      "656/656 [==============================] - 22s 33ms/step - loss: 4.9689e-04\n",
      "Epoch 61/100\n",
      "656/656 [==============================] - 22s 33ms/step - loss: 4.7957e-04\n",
      "Epoch 62/100\n",
      "656/656 [==============================] - 22s 33ms/step - loss: 4.6622e-04\n",
      "Epoch 63/100\n",
      "656/656 [==============================] - 23s 35ms/step - loss: 4.8254e-04\n",
      "Epoch 64/100\n",
      "656/656 [==============================] - 22s 34ms/step - loss: 4.8702e-04\n",
      "Epoch 65/100\n",
      "656/656 [==============================] - 22s 33ms/step - loss: 4.8566e-04\n",
      "Epoch 66/100\n",
      "656/656 [==============================] - 22s 33ms/step - loss: 4.7186e-04\n",
      "Epoch 67/100\n",
      "656/656 [==============================] - 22s 33ms/step - loss: 4.9639e-04\n",
      "Epoch 68/100\n",
      "656/656 [==============================] - 22s 33ms/step - loss: 4.7588e-04\n",
      "Epoch 69/100\n",
      "656/656 [==============================] - 23s 35ms/step - loss: 4.7082e-04\n",
      "Epoch 70/100\n",
      "656/656 [==============================] - 22s 34ms/step - loss: 4.7445e-04\n",
      "Epoch 71/100\n",
      "656/656 [==============================] - 22s 33ms/step - loss: 4.7798e-04\n",
      "Epoch 72/100\n",
      "656/656 [==============================] - 22s 33ms/step - loss: 4.7033e-04\n",
      "Epoch 73/100\n",
      "656/656 [==============================] - 22s 33ms/step - loss: 4.6599e-04\n",
      "Epoch 74/100\n",
      "656/656 [==============================] - 21s 33ms/step - loss: 4.7364e-04\n",
      "Epoch 75/100\n",
      "656/656 [==============================] - 22s 33ms/step - loss: 4.7233e-04\n",
      "Epoch 76/100\n",
      "656/656 [==============================] - 22s 33ms/step - loss: 4.7863e-04\n",
      "Epoch 77/100\n",
      "656/656 [==============================] - 22s 33ms/step - loss: 4.6699e-04\n",
      "Epoch 78/100\n",
      "656/656 [==============================] - 22s 33ms/step - loss: 4.8010e-04\n",
      "Epoch 79/100\n",
      "656/656 [==============================] - 22s 33ms/step - loss: 4.8235e-04\n",
      "Epoch 80/100\n",
      "656/656 [==============================] - 22s 33ms/step - loss: 4.7338e-04\n",
      "Epoch 81/100\n",
      "656/656 [==============================] - 22s 33ms/step - loss: 4.7439e-04\n",
      "Epoch 82/100\n",
      "656/656 [==============================] - 22s 33ms/step - loss: 4.7068e-04\n",
      "Epoch 83/100\n",
      "656/656 [==============================] - 21s 33ms/step - loss: 4.6682e-04\n",
      "Epoch 84/100\n",
      "656/656 [==============================] - 22s 33ms/step - loss: 4.6903e-04\n",
      "Epoch 85/100\n",
      "656/656 [==============================] - 21s 33ms/step - loss: 4.7020e-04\n",
      "Epoch 86/100\n",
      "656/656 [==============================] - 21s 33ms/step - loss: 4.6291e-04\n",
      "Epoch 87/100\n",
      "656/656 [==============================] - 22s 33ms/step - loss: 4.6829e-04\n",
      "Epoch 88/100\n",
      "656/656 [==============================] - 22s 33ms/step - loss: 4.7475e-04\n",
      "Epoch 89/100\n",
      "656/656 [==============================] - 22s 33ms/step - loss: 4.6099e-04\n",
      "Epoch 90/100\n",
      "656/656 [==============================] - 22s 33ms/step - loss: 4.7330e-04\n",
      "Epoch 91/100\n",
      "656/656 [==============================] - 22s 33ms/step - loss: 4.6457e-04\n",
      "Epoch 92/100\n",
      "656/656 [==============================] - 22s 33ms/step - loss: 4.6163e-04\n",
      "Epoch 93/100\n",
      "656/656 [==============================] - 22s 33ms/step - loss: 4.5566e-04\n",
      "Epoch 94/100\n",
      "656/656 [==============================] - 22s 33ms/step - loss: 4.5893e-04\n",
      "Epoch 95/100\n",
      "656/656 [==============================] - 22s 33ms/step - loss: 4.7441e-04\n",
      "Epoch 96/100\n",
      "656/656 [==============================] - 21s 33ms/step - loss: 4.6341e-04\n",
      "Epoch 97/100\n",
      "656/656 [==============================] - 21s 33ms/step - loss: 4.6827e-04\n",
      "Epoch 98/100\n",
      "656/656 [==============================] - 22s 33ms/step - loss: 4.6047e-04\n",
      "Epoch 99/100\n",
      "656/656 [==============================] - 21s 33ms/step - loss: 4.5711e-04\n",
      "Epoch 100/100\n",
      "656/656 [==============================] - 22s 33ms/step - loss: 4.6045e-04\n"
     ]
    },
    {
     "data": {
      "text/plain": [
       "<keras.callbacks.History at 0x1e53046d7c0>"
      ]
     },
     "execution_count": 15,
     "metadata": {},
     "output_type": "execute_result"
    }
   ],
   "source": [
    "### Run the training set with the LSTM (specialized RNN here)\n",
    "model.fit(X_train,y_train,epochs=100,batch_size=10)"
   ]
  },
  {
   "cell_type": "code",
   "execution_count": 16,
   "id": "1ee74e46",
   "metadata": {},
   "outputs": [
    {
     "name": "stdout",
     "output_type": "stream",
     "text": [
      "Model: \"sequential\"\n",
      "_________________________________________________________________\n",
      " Layer (type)                Output Shape              Param #   \n",
      "=================================================================\n",
      " lstm (LSTM)                 (None, 60, 50)            10400     \n",
      "                                                                 \n",
      " dropout (Dropout)           (None, 60, 50)            0         \n",
      "                                                                 \n",
      " lstm_1 (LSTM)               (None, 60, 50)            20200     \n",
      "                                                                 \n",
      " dropout_1 (Dropout)         (None, 60, 50)            0         \n",
      "                                                                 \n",
      " lstm_2 (LSTM)               (None, 60, 50)            20200     \n",
      "                                                                 \n",
      " dropout_2 (Dropout)         (None, 60, 50)            0         \n",
      "                                                                 \n",
      " lstm_3 (LSTM)               (None, 50)                20200     \n",
      "                                                                 \n",
      " dropout_3 (Dropout)         (None, 50)                0         \n",
      "                                                                 \n",
      " dense (Dense)               (None, 1)                 51        \n",
      "                                                                 \n",
      "=================================================================\n",
      "Total params: 71,051\n",
      "Trainable params: 71,051\n",
      "Non-trainable params: 0\n",
      "_________________________________________________________________\n"
     ]
    }
   ],
   "source": [
    "model.summary()"
   ]
  },
  {
   "cell_type": "code",
   "execution_count": 17,
   "id": "df27a927",
   "metadata": {},
   "outputs": [
    {
     "name": "stdout",
     "output_type": "stream",
     "text": [
      "205/205 [==============================] - 4s 15ms/step\n",
      "(6556, 1)\n"
     ]
    }
   ],
   "source": [
    "predict_train=model.predict(X_train) \n",
    "print(predict_train.shape) \n",
    "### this output is (1040,60,1), we want only the first no. in each row of 1040 \n",
    "### this 3D structure makes it more difficult to interpret comparison of prediction in training set vs output in trg set"
   ]
  },
  {
   "cell_type": "code",
   "execution_count": 18,
   "id": "519e5684",
   "metadata": {},
   "outputs": [
    {
     "name": "stdout",
     "output_type": "stream",
     "text": [
      "[[0.16594744]\n",
      " [0.1493568 ]\n",
      " [0.13367152]\n",
      " ...\n",
      " [0.06648421]\n",
      " [0.07001674]\n",
      " [0.05968529]]\n"
     ]
    }
   ],
   "source": [
    "print(predict_train)"
   ]
  },
  {
   "cell_type": "code",
   "execution_count": 19,
   "id": "82e08e6c",
   "metadata": {},
   "outputs": [],
   "source": [
    "predict_train=predict_train[:, 0]  ### select first column or first day of 60 days of each day prediction from 1 to 1040"
   ]
  },
  {
   "cell_type": "code",
   "execution_count": 20,
   "id": "1a99a0f9",
   "metadata": {},
   "outputs": [
    {
     "name": "stdout",
     "output_type": "stream",
     "text": [
      "[0.16594744 0.1493568  0.13367152 ... 0.06648421 0.07001674 0.05968529]\n"
     ]
    }
   ],
   "source": [
    "print(predict_train)"
   ]
  },
  {
   "cell_type": "code",
   "execution_count": 21,
   "id": "f584fac4",
   "metadata": {},
   "outputs": [],
   "source": [
    "### creating data structure with 60 time-steps and 1 output\n",
    "X_test=[]\n",
    "y_test=[]  ### here y_test is to collect the predicted y values\n",
    "for i in range(60,1654):\n",
    "    X_test.append(test_set_scaled[i-60:i, 0])\n",
    "    y_test.append(test_set_scaled[i, 0])\n",
    "X_test, y_test = np.array(X_test), np.array(y_test)  ### convert to np arrays as X_test is \"list\"    \n",
    "X_test=np.reshape(X_test, (X_test.shape[0], X_test.shape[1],1))"
   ]
  },
  {
   "cell_type": "code",
   "execution_count": 22,
   "id": "e7859827",
   "metadata": {},
   "outputs": [
    {
     "data": {
      "text/plain": [
       "(1594,)"
      ]
     },
     "execution_count": 22,
     "metadata": {},
     "output_type": "execute_result"
    }
   ],
   "source": [
    "y_test.shape ### now (1654-60) is 1 Dim -- convert to two dim"
   ]
  },
  {
   "cell_type": "code",
   "execution_count": 23,
   "id": "557594a8",
   "metadata": {},
   "outputs": [],
   "source": [
    "y_test = np.reshape(y_test, (-1, 1))\n",
    "y_train=np.reshape(y_train,(-1,1))"
   ]
  },
  {
   "cell_type": "code",
   "execution_count": 25,
   "id": "d4cde86f",
   "metadata": {},
   "outputs": [
    {
     "name": "stdout",
     "output_type": "stream",
     "text": [
      "50/50 [==============================] - 1s 12ms/step\n"
     ]
    }
   ],
   "source": [
    "### Prediction\n",
    "predicted_stock_price=model.predict(X_test)\n",
    "predicted_stock_price=predicted_stock_price[:,0]\n"
   ]
  },
  {
   "cell_type": "code",
   "execution_count": 26,
   "id": "0ecb8209",
   "metadata": {},
   "outputs": [
    {
     "name": "stdout",
     "output_type": "stream",
     "text": [
      "[0.13367608 0.11420005 0.09943005 ... 0.28972143 0.29211146 0.27251622]\n"
     ]
    }
   ],
   "source": [
    "print(predicted_stock_price)"
   ]
  },
  {
   "cell_type": "code",
   "execution_count": 27,
   "id": "97f4d9d4",
   "metadata": {},
   "outputs": [
    {
     "name": "stdout",
     "output_type": "stream",
     "text": [
      "Train RMSE: 0.021 RMSE\n",
      "Test RMSE: 0.029 RMSE\n"
     ]
    }
   ],
   "source": [
    "from sklearn.metrics import mean_squared_error\n",
    "import math\n",
    "def print_error(trainY, testY, train_predict, test_predict):    \n",
    "    ### Error of predictions\n",
    "    train_rmse = math.sqrt(mean_squared_error(trainY, train_predict))\n",
    "    test_rmse = math.sqrt(mean_squared_error(testY, test_predict))\n",
    "    ### Print RMSE\n",
    "    print('Train RMSE: %.3f RMSE' % (train_rmse))\n",
    "    print('Test RMSE: %.3f RMSE' % (test_rmse))\n",
    "    \n",
    "print_error(y_train, y_test, predict_train, predicted_stock_price)"
   ]
  },
  {
   "cell_type": "code",
   "execution_count": 28,
   "id": "d60a8dcf",
   "metadata": {},
   "outputs": [
    {
     "name": "stdout",
     "output_type": "stream",
     "text": [
      "[[0.14619147]\n",
      " [0.12788258]\n",
      " [0.14563242]\n",
      " ...\n",
      " [0.06484975]\n",
      " [0.05296995]\n",
      " [0.06722572]]\n"
     ]
    }
   ],
   "source": [
    "print(y_train)"
   ]
  },
  {
   "cell_type": "code",
   "execution_count": 29,
   "id": "10270e98",
   "metadata": {},
   "outputs": [
    {
     "name": "stdout",
     "output_type": "stream",
     "text": [
      "[0.16594744 0.1493568  0.13367152 ... 0.06648421 0.07001674 0.05968529]\n"
     ]
    }
   ],
   "source": [
    "print(predict_train)"
   ]
  },
  {
   "cell_type": "code",
   "execution_count": 30,
   "id": "637c326d",
   "metadata": {},
   "outputs": [
    {
     "name": "stdout",
     "output_type": "stream",
     "text": [
      "[[0.10244583]\n",
      " [0.08832984]\n",
      " [0.07631027]\n",
      " ...\n",
      " [0.28707197]\n",
      " [0.26764499]\n",
      " [0.25115305]]\n"
     ]
    }
   ],
   "source": [
    "print(y_test)"
   ]
  },
  {
   "cell_type": "code",
   "execution_count": 31,
   "id": "0829bd81",
   "metadata": {},
   "outputs": [
    {
     "name": "stdout",
     "output_type": "stream",
     "text": [
      "[0.13367608 0.11420005 0.09943005 ... 0.28972143 0.29211146 0.27251622]\n"
     ]
    }
   ],
   "source": [
    "print(predicted_stock_price)"
   ]
  },
  {
   "cell_type": "code",
   "execution_count": 32,
   "id": "3fc91195",
   "metadata": {},
   "outputs": [],
   "source": [
    "Pred_price=sc.inverse_transform(predicted_stock_price.reshape(-1, 1))\n",
    "#Pred_price=Pred.price.reshape(-1, 1)"
   ]
  },
  {
   "cell_type": "code",
   "execution_count": 33,
   "id": "c3b8401b",
   "metadata": {},
   "outputs": [
    {
     "data": {
      "image/png": "[encoded data removed]",
      "text/plain": [
       "<Figure size 432x288 with 1 Axes>"
      ]
     },
     "metadata": {
      "needs_background": "light"
     },
     "output_type": "display_data"
    }
   ],
   "source": [
    "### Plotting the stock price prediction results\n",
    "plt.plot(test_set[60:1654,:],label=\"Actual VIX Level\",linestyle='--') ### from observation 60 to 1654  or 12 Aug 2016 to 30 Dec 2016\n",
    "plt.plot(Pred_price,label=\"Predicted VIX Level\",linestyle='-')\n",
    "plt.title('Google Stock Price Prediction from 4 Apr 2016 till 26 Oct 2022')\n",
    "plt.xlabel('Time')\n",
    "plt.ylabel('VIX')\n",
    "plt.legend()\n",
    "plt.show()"
   ]
  },
  {
   "cell_type": "code",
   "execution_count": null,
   "id": "3d0e9846",
   "metadata": {},
   "outputs": [],
   "source": []
  }
 ],
 "metadata": {
  "kernelspec": {
   "display_name": "Python 3 (ipykernel)",
   "language": "python",
   "name": "python3"
  },
  "language_info": {
   "codemirror_mode": {
    "name": "ipython",
    "version": 3
   },
   "file_extension": ".py",
   "mimetype": "text/x-python",
   "name": "python",
   "nbconvert_exporter": "python",
   "pygments_lexer": "ipython3",
   "version": "3.9.13"
  }
 },
 "nbformat": 4,
 "nbformat_minor": 5
}
