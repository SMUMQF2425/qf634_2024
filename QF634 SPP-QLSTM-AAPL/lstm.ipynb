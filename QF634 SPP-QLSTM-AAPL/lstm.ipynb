{
 "cells": [
  {
   "cell_type": "code",
   "execution_count": 26,
   "metadata": {},
   "outputs": [
    {
     "name": "stdout",
     "output_type": "stream",
     "text": [
      "2.5.1\n",
      "CUDA available: True\n",
      "Using device: cuda\n"
     ]
    }
   ],
   "source": [
    "# Import torch\n",
    "\n",
    "import torch\n",
    "from torch import nn\n",
    "import pandas as pd\n",
    "import numpy as np\n",
    "import matplotlib.pyplot as plt\n",
    "from sklearn.preprocessing import StandardScaler, MinMaxScaler\n",
    "\n",
    "print(torch.__version__)\n",
    "## Check if CUDA is available:\n",
    "print(\"CUDA available:\", torch.cuda.is_available())\n",
    "\n",
    "## set pytorch tensor / device to use GPU\n",
    "device = torch.device(\"cuda\" if torch.cuda.is_available() else \"cpu\")\n",
    "print(\"Using device:\", device)\n",
    "### tensor = tensor.to(device) to move tensor to GPU"
   ]
  },
  {
   "cell_type": "markdown",
   "metadata": {},
   "source": [
    "Credits: https://charlieoneill.medium.com/predicting-the-price-of-bitcoin-with-multivariate-pytorch-lstms-695bc294130"
   ]
  },
  {
   "cell_type": "code",
   "execution_count": 62,
   "metadata": {},
   "outputs": [
    {
     "name": "stdout",
     "output_type": "stream",
     "text": [
      "Imported X and y Shapes: (688, 32), (688,), \n",
      "\n",
      "X_trans and y_trans Shapes: (688, 32), (688, 1), \n",
      "\n",
      "X_ss and y_mm: (630, 50, 32), (630, 10), \n",
      "\n",
      "Training Shape: (570, 50, 32), (570, 10)\n",
      "Testing Shape: (60, 50, 32), (60, 10), \n",
      "\n",
      "Training Shape: torch.Size([570, 50, 32]) torch.Size([570, 10])\n",
      "Testing Shape: torch.Size([60, 50, 32]) torch.Size([60, 10])\n"
     ]
    }
   ],
   "source": [
    "X = pd.read_csv(\"X.csv\", index_col = 'Unnamed: 0', parse_dates=True)\n",
    "y = pd.read_csv(\"y.csv\").AAPL_pred.values\n",
    "print(f\"Imported X and y Shapes: {X.shape}, {y.shape}, \\n\")\n",
    "\n",
    "## Standardisation for our training features\n",
    "## For label y, we will scale and translate each feature individually to between 0 and 1\n",
    "mm = MinMaxScaler()\n",
    "ss = StandardScaler()\n",
    "X_trans = ss.fit_transform(X)\n",
    "y_trans = mm.fit_transform(y.reshape(-1, 1)) # (688,) to reshape to (688, 1)\n",
    "print(f\"X_trans and y_trans Shapes: {X_trans.shape}, {y_trans.shape}, \\n\")\n",
    "\n",
    "# split a multivariate sequence past, future samples (X and y)\n",
    "def split_sequences(input_sequences, output_sequence, n_steps_in, n_steps_out):\n",
    "    X, y = list(), list() # instantiate X and y\n",
    "    for i in range(len(input_sequences)):\n",
    "        # find the end of the input, output sequence\n",
    "        end_ix = i + n_steps_in\n",
    "        out_end_ix = end_ix + n_steps_out - 1\n",
    "        # check if we are beyond the dataset\n",
    "        if out_end_ix > len(input_sequences): break\n",
    "        # gather input and output of the pattern\n",
    "        seq_x, seq_y = input_sequences[i:end_ix], output_sequence[end_ix-1:out_end_ix, -1]\n",
    "        X.append(seq_x), y.append(seq_y)\n",
    "    return np.array(X), np.array(y)\n",
    "\n",
    "n_steps_in = 50\n",
    "n_steps_out = 10\n",
    "sum_n_steps = n_steps_in + n_steps_out\n",
    "X_ss, y_mm = split_sequences(X_trans, y_trans, n_steps_in, n_steps_out) # feed in 50 samples, up to the current day, and predict the next 10 time step values\n",
    "print(f\"X_ss and y_mm: {X_ss.shape}, {y_mm.shape}, \\n\")\n",
    "\n",
    "total_samples = len(X)\n",
    "train_test_cutoff = round(0.90 * total_samples)\n",
    "\n",
    "X_train = X_ss[:-sum_n_steps]\n",
    "X_test = X_ss[-sum_n_steps:]\n",
    "\n",
    "y_train = y_mm[:-sum_n_steps]\n",
    "y_test = y_mm[-sum_n_steps:] \n",
    "\n",
    "print(f\"Training Shape: {X_train.shape}, {y_train.shape}\")\n",
    "print(f\"Testing Shape: {X_test.shape}, {y_test.shape}, \\n\") \n",
    "\n",
    "### Convert data to tensors\n",
    "# convert to pytorch tensors, optional to move to cuda\n",
    "X_train_tensors = (torch.Tensor(X_train)).to(device)\n",
    "X_test_tensors = (torch.Tensor(X_test)).to(device)\n",
    "\n",
    "y_train_tensors = (torch.Tensor(y_train)).to(device)\n",
    "y_test_tensors = (torch.Tensor(y_test)).to(device)\n",
    "\n",
    "# reshaping tensors to rows, timestamps, features\n",
    "X_train_tensors_final = torch.reshape(X_train_tensors,   \n",
    "                                      (X_train_tensors.shape[0], n_steps_in, \n",
    "                                       X_train_tensors.shape[2])).to(device)\n",
    "X_test_tensors_final = torch.reshape(X_test_tensors,  \n",
    "                                     (X_test_tensors.shape[0], n_steps_in, \n",
    "                                      X_test_tensors.shape[2])).to(device)\n",
    "\n",
    "print(\"Training Shape:\", X_train_tensors_final.shape, y_train_tensors.shape)\n",
    "print(\"Testing Shape:\", X_test_tensors_final.shape, y_test_tensors.shape)\n",
    "\n"
   ]
  },
  {
   "cell_type": "code",
   "execution_count": 61,
   "metadata": {},
   "outputs": [
    {
     "data": {
      "text/plain": [
       "device(type='cpu')"
      ]
     },
     "execution_count": 61,
     "metadata": {},
     "output_type": "execute_result"
    }
   ],
   "source": [
    "y_train_tensors.device"
   ]
  },
  {
   "cell_type": "code",
   "execution_count": 35,
   "metadata": {},
   "outputs": [
    {
     "data": {
      "text/plain": [
       "10"
      ]
     },
     "execution_count": 35,
     "metadata": {},
     "output_type": "execute_result"
    }
   ],
   "source": [
    "y_train_tensors.shape[1]"
   ]
  },
  {
   "cell_type": "code",
   "execution_count": null,
   "metadata": {},
   "outputs": [
    {
     "name": "stderr",
     "output_type": "stream",
     "text": [
      "c:\\Users\\limfy\\anaconda3\\Lib\\site-packages\\torch\\nn\\modules\\rnn.py:123: UserWarning: dropout option adds dropout after all but last recurrent layer, so non-zero dropout expects num_layers greater than 1, but got dropout=0.2 and num_layers=1\n",
      "  warnings.warn(\n"
     ]
    },
    {
     "name": "stdout",
     "output_type": "stream",
     "text": [
      "Epoch: 0, train loss: 0.53282, test loss: 0.76238\n",
      "Epoch: 100, train loss: 0.00422, test loss: 0.06545\n",
      "Epoch: 200, train loss: 0.00160, test loss: 0.05230\n",
      "Epoch: 300, train loss: 0.00106, test loss: 0.04855\n",
      "Epoch: 400, train loss: 0.00081, test loss: 0.04498\n",
      "Epoch: 500, train loss: 0.00067, test loss: 0.04179\n",
      "Epoch: 600, train loss: 0.00058, test loss: 0.03904\n",
      "Epoch: 700, train loss: 0.00051, test loss: 0.03678\n",
      "Epoch: 800, train loss: 0.00047, test loss: 0.03488\n",
      "Epoch: 900, train loss: 0.00043, test loss: 0.03325\n"
     ]
    }
   ],
   "source": [
    "class LSTM(nn.Module):\n",
    "    \n",
    "    def __init__(self, num_classes, input_size, hidden_size, num_layers, dropout):\n",
    "        super().__init__()\n",
    "        self.num_classes = num_classes # output size\n",
    "        self.num_layers = num_layers # number of recurrent layers in the lstm\n",
    "        self.input_size = input_size # input size\n",
    "        self.hidden_size = hidden_size # neurons in each lstm layer\n",
    "        self.dropout = dropout\n",
    "        # LSTM model\n",
    "        self.lstm = nn.LSTM(input_size=input_size, hidden_size=hidden_size,\n",
    "                            num_layers=num_layers, batch_first=True, dropout=dropout) # lstm\n",
    "        self.fc_1 =  nn.Linear(hidden_size, 128) # fully connected ; \n",
    "        self.fc_2 = nn.Linear(128, num_classes) # fully connected last layer\n",
    "        self.relu = nn.ReLU()\n",
    "        \n",
    "    def forward(self, x):\n",
    "        batch_size = x.size(0)  # Dynamically get the batch size\n",
    "        h_0 = torch.zeros(self.num_layers, batch_size, self.hidden_size).to(x.device)\n",
    "        c_0 = torch.zeros(self.num_layers, batch_size, self.hidden_size).to(x.device)\n",
    "\n",
    "        # Propagate input through LSTM\n",
    "        output, (hn, cn) = self.lstm(x, (h_0, c_0))  # Output shape: (batch_size, seq_length, hidden_size)\n",
    "\n",
    "        # Use the last timestep's output\n",
    "        last_timestep_output = output[:, -1, :]  # Shape: (batch_size, hidden_size)\n",
    "\n",
    "        # Fully connected layers\n",
    "        out = self.relu(self.fc_1(last_timestep_output))  # Shape: (batch_size, 128)\n",
    "        out = self.fc_2(out)  # Shape: (batch_size, num_classes)\n",
    "        return out\n",
    "    \n",
    "def training_loop(n_epochs, lstm, optimiser, loss_fn, X_train, y_train,\n",
    "                  X_test, y_test):\n",
    "    for epoch in range(n_epochs):\n",
    "        lstm.train()\n",
    "        outputs = lstm.forward(X_train) # forward pass\n",
    "        optimiser.zero_grad() # calculate the gradient, manually setting to 0\n",
    "        # obtain the loss function\n",
    "        loss = loss_fn(outputs, y_train)\n",
    "        loss.backward() # calculates the loss of the loss function\n",
    "        optimiser.step() # improve from loss, i.e backprop\n",
    "        # test loss\n",
    "        lstm.eval()\n",
    "        test_preds = lstm(X_test)\n",
    "        test_loss = loss_fn(test_preds, y_test)\n",
    "        if epoch % 100 == 0:\n",
    "            print(\"Epoch: %d, train loss: %1.5f, test loss: %1.5f\" % (epoch, \n",
    "                                                                      loss.item(), \n",
    "                                                                      test_loss.item())) \n",
    "# n_epochs = 1000 # 1000 epochs\n",
    "# learning_rate = 0.001 # 0.001 lr\n",
    "# input_size = X_train_tensors.shape[2] # number of features\n",
    "# hidden_size = 16 # number of features in hidden state\n",
    "# num_layers = 1 # number of stacked lstm layers\n",
    "# dropout = 0.2\n",
    "\n",
    "# num_classes = y_train_tensors.shape[1] # number of output classes \n",
    "\n",
    "# lstm = LSTM(num_classes, \n",
    "#               input_size, \n",
    "#               hidden_size, \n",
    "#               num_layers,\n",
    "#               dropout).to(device)\n",
    "\n",
    "# loss_fn = torch.nn.MSELoss()    # mean-squared error for regression\n",
    "# optimiser = torch.optim.Adam(lstm.parameters(), lr=learning_rate)\n",
    "\n",
    "# training_loop(n_epochs=n_epochs,\n",
    "#               lstm=lstm,\n",
    "#               optimiser=optimiser,\n",
    "#               loss_fn=loss_fn,\n",
    "#               X_train=X_train_tensors_final,\n",
    "#               y_train=y_train_tensors,\n",
    "#               X_test=X_test_tensors_final,\n",
    "#               y_test=y_test_tensors)"
   ]
  },
  {
   "cell_type": "code",
   "execution_count": null,
   "metadata": {},
   "outputs": [
    {
     "name": "stderr",
     "output_type": "stream",
     "text": [
      "[I 2024-12-09 12:02:59,040] A new study created in memory with name: no-name-0cfdda72-a842-49e9-bcfb-6e786aca271c\n",
      "C:\\Users\\limfy\\AppData\\Local\\Temp\\ipykernel_24892\\3914893301.py:5: FutureWarning: suggest_loguniform has been deprecated in v3.0.0. This feature will be removed in v6.0.0. See https://github.com/optuna/optuna/releases/tag/v3.0.0. Use suggest_float(..., log=True) instead.\n",
      "  lr = trial.suggest_loguniform('lr', 1e-4, 1e-2)\n"
     ]
    },
    {
     "name": "stdout",
     "output_type": "stream",
     "text": [
      "Epoch: 0, train loss: 0.53609, test loss: 0.76962\n",
      "Epoch: 100, train loss: 0.00123, test loss: 0.00539\n",
      "Epoch: 200, train loss: 0.00086, test loss: 0.00417\n",
      "Epoch: 300, train loss: 0.00070, test loss: 0.00369\n",
      "Epoch: 400, train loss: 0.00061, test loss: 0.00379\n",
      "Epoch: 500, train loss: 0.00057, test loss: 0.00365\n",
      "Epoch: 600, train loss: 0.00053, test loss: 0.00385\n",
      "Epoch: 700, train loss: 0.00048, test loss: 0.00416\n",
      "Epoch: 800, train loss: 0.00041, test loss: 0.00382\n",
      "Epoch: 900, train loss: 0.00035, test loss: 0.00360\n"
     ]
    },
    {
     "name": "stderr",
     "output_type": "stream",
     "text": [
      "[I 2024-12-09 12:03:07,853] Trial 0 finished with value: 0.0034854873083531857 and parameters: {'lr': 0.0014258185574881142, 'hidden_size': 64, 'num_layers': 3, 'dropout': 0.2}. Best is trial 0 with value: 0.0034854873083531857.\n"
     ]
    },
    {
     "name": "stdout",
     "output_type": "stream",
     "text": [
      "Epoch: 0, train loss: 0.52647, test loss: 0.71311\n",
      "Epoch: 100, train loss: 0.00087, test loss: 0.00325\n",
      "Epoch: 200, train loss: 0.00064, test loss: 0.00578\n",
      "Epoch: 300, train loss: 0.00048, test loss: 0.00850\n",
      "Epoch: 400, train loss: 0.00036, test loss: 0.00876\n",
      "Epoch: 500, train loss: 0.00033, test loss: 0.00886\n",
      "Epoch: 600, train loss: 0.00029, test loss: 0.00960\n",
      "Epoch: 700, train loss: 0.00026, test loss: 0.00921\n",
      "Epoch: 800, train loss: 0.00025, test loss: 0.00909\n",
      "Epoch: 900, train loss: 0.00023, test loss: 0.00899\n"
     ]
    },
    {
     "name": "stderr",
     "output_type": "stream",
     "text": [
      "[I 2024-12-09 12:03:13,959] Trial 1 finished with value: 0.009249025024473667 and parameters: {'lr': 0.00430967483456495, 'hidden_size': 64, 'num_layers': 2, 'dropout': 0.4}. Best is trial 0 with value: 0.0034854873083531857.\n",
      "c:\\Users\\limfy\\anaconda3\\Lib\\site-packages\\torch\\nn\\modules\\rnn.py:123: UserWarning: dropout option adds dropout after all but last recurrent layer, so non-zero dropout expects num_layers greater than 1, but got dropout=0.1 and num_layers=1\n",
      "  warnings.warn(\n"
     ]
    },
    {
     "name": "stdout",
     "output_type": "stream",
     "text": [
      "Epoch: 0, train loss: 0.47047, test loss: 0.67194\n",
      "Epoch: 100, train loss: 0.00115, test loss: 0.02634\n",
      "Epoch: 200, train loss: 0.00064, test loss: 0.02697\n",
      "Epoch: 300, train loss: 0.00046, test loss: 0.02855\n",
      "Epoch: 400, train loss: 0.00036, test loss: 0.02929\n",
      "Epoch: 500, train loss: 0.00030, test loss: 0.02958\n",
      "Epoch: 600, train loss: 0.00025, test loss: 0.03016\n",
      "Epoch: 700, train loss: 0.00022, test loss: 0.03064\n",
      "Epoch: 800, train loss: 0.00020, test loss: 0.03127\n",
      "Epoch: 900, train loss: 0.00018, test loss: 0.03192\n"
     ]
    },
    {
     "name": "stderr",
     "output_type": "stream",
     "text": [
      "[I 2024-12-09 12:03:18,245] Trial 2 finished with value: 0.03242424502968788 and parameters: {'lr': 0.0015972796183156709, 'hidden_size': 64, 'num_layers': 1, 'dropout': 0.1}. Best is trial 0 with value: 0.0034854873083531857.\n"
     ]
    },
    {
     "name": "stdout",
     "output_type": "stream",
     "text": [
      "Epoch: 0, train loss: 0.52676, test loss: 0.77356\n",
      "Epoch: 100, train loss: 0.00277, test loss: 0.00518\n",
      "Epoch: 200, train loss: 0.00173, test loss: 0.00346\n",
      "Epoch: 300, train loss: 0.00133, test loss: 0.00366\n",
      "Epoch: 400, train loss: 0.00113, test loss: 0.00398\n",
      "Epoch: 500, train loss: 0.00101, test loss: 0.00416\n",
      "Epoch: 600, train loss: 0.00093, test loss: 0.00446\n",
      "Epoch: 700, train loss: 0.00079, test loss: 0.00442\n",
      "Epoch: 800, train loss: 0.00077, test loss: 0.00468\n",
      "Epoch: 900, train loss: 0.00071, test loss: 0.00472\n"
     ]
    },
    {
     "name": "stderr",
     "output_type": "stream",
     "text": [
      "[I 2024-12-09 12:03:23,117] Trial 3 finished with value: 0.004342770669609308 and parameters: {'lr': 0.0005218023429488851, 'hidden_size': 32, 'num_layers': 2, 'dropout': 0.4}. Best is trial 0 with value: 0.0034854873083531857.\n",
      "c:\\Users\\limfy\\anaconda3\\Lib\\site-packages\\torch\\nn\\modules\\rnn.py:123: UserWarning: dropout option adds dropout after all but last recurrent layer, so non-zero dropout expects num_layers greater than 1, but got dropout=0.25 and num_layers=1\n",
      "  warnings.warn(\n"
     ]
    },
    {
     "name": "stdout",
     "output_type": "stream",
     "text": [
      "Epoch: 0, train loss: 0.50407, test loss: 0.75647\n",
      "Epoch: 100, train loss: 0.28133, test loss: 0.46545\n",
      "Epoch: 200, train loss: 0.02646, test loss: 0.16065\n",
      "Epoch: 300, train loss: 0.00780, test loss: 0.14304\n",
      "Epoch: 400, train loss: 0.00440, test loss: 0.12132\n",
      "Epoch: 500, train loss: 0.00305, test loss: 0.10785\n",
      "Epoch: 600, train loss: 0.00241, test loss: 0.09896\n",
      "Epoch: 700, train loss: 0.00203, test loss: 0.09313\n",
      "Epoch: 800, train loss: 0.00176, test loss: 0.08915\n",
      "Epoch: 900, train loss: 0.00154, test loss: 0.08651\n"
     ]
    },
    {
     "name": "stderr",
     "output_type": "stream",
     "text": [
      "[I 2024-12-09 12:03:26,723] Trial 4 finished with value: 0.08443475514650345 and parameters: {'lr': 0.00010626374339761234, 'hidden_size': 32, 'num_layers': 1, 'dropout': 0.25}. Best is trial 0 with value: 0.0034854873083531857.\n"
     ]
    },
    {
     "name": "stdout",
     "output_type": "stream",
     "text": [
      "Epoch: 0, train loss: 0.48616, test loss: 0.71975\n",
      "Epoch: 100, train loss: 0.00297, test loss: 0.00188\n",
      "Epoch: 200, train loss: 0.00137, test loss: 0.00137\n",
      "Epoch: 300, train loss: 0.00107, test loss: 0.00202\n",
      "Epoch: 400, train loss: 0.00088, test loss: 0.00261\n",
      "Epoch: 500, train loss: 0.00082, test loss: 0.00295\n",
      "Epoch: 600, train loss: 0.00076, test loss: 0.00319\n",
      "Epoch: 700, train loss: 0.00070, test loss: 0.00346\n",
      "Epoch: 800, train loss: 0.00066, test loss: 0.00398\n",
      "Epoch: 900, train loss: 0.00066, test loss: 0.00399\n"
     ]
    },
    {
     "name": "stderr",
     "output_type": "stream",
     "text": [
      "[I 2024-12-09 12:03:32,432] Trial 5 finished with value: 0.004197308328002691 and parameters: {'lr': 0.0005745938945967565, 'hidden_size': 32, 'num_layers': 3, 'dropout': 0.2}. Best is trial 0 with value: 0.0034854873083531857.\n"
     ]
    },
    {
     "name": "stdout",
     "output_type": "stream",
     "text": [
      "Epoch: 0, train loss: 0.48618, test loss: 0.67156\n",
      "Epoch: 100, train loss: 0.00071, test loss: 0.00272\n",
      "Epoch: 200, train loss: 0.00051, test loss: 0.00509\n",
      "Epoch: 300, train loss: 0.00041, test loss: 0.00716\n",
      "Epoch: 400, train loss: 0.00030, test loss: 0.00851\n",
      "Epoch: 500, train loss: 0.00025, test loss: 0.00890\n",
      "Epoch: 600, train loss: 0.00023, test loss: 0.00810\n",
      "Epoch: 700, train loss: 0.00020, test loss: 0.00738\n",
      "Epoch: 800, train loss: 0.00019, test loss: 0.00695\n",
      "Epoch: 900, train loss: 0.00017, test loss: 0.00657\n"
     ]
    },
    {
     "name": "stderr",
     "output_type": "stream",
     "text": [
      "[I 2024-12-09 12:03:38,419] Trial 6 finished with value: 0.006294415332376957 and parameters: {'lr': 0.003918666341855426, 'hidden_size': 64, 'num_layers': 2, 'dropout': 0.15000000000000002}. Best is trial 0 with value: 0.0034854873083531857.\n"
     ]
    },
    {
     "name": "stdout",
     "output_type": "stream",
     "text": [
      "Epoch: 0, train loss: 0.54268, test loss: 0.73726\n",
      "Epoch: 100, train loss: 0.00084, test loss: 0.02015\n",
      "Epoch: 200, train loss: 0.00054, test loss: 0.02101\n",
      "Epoch: 300, train loss: 0.00039, test loss: 0.02269\n",
      "Epoch: 400, train loss: 0.00031, test loss: 0.02415\n",
      "Epoch: 500, train loss: 0.00025, test loss: 0.02500\n",
      "Epoch: 600, train loss: 0.00021, test loss: 0.02589\n",
      "Epoch: 700, train loss: 0.00018, test loss: 0.02696\n",
      "Epoch: 800, train loss: 0.00016, test loss: 0.02800\n",
      "Epoch: 900, train loss: 0.00014, test loss: 0.02886\n"
     ]
    },
    {
     "name": "stderr",
     "output_type": "stream",
     "text": [
      "[I 2024-12-09 12:03:42,153] Trial 7 finished with value: 0.02919013798236847 and parameters: {'lr': 0.003065109623518796, 'hidden_size': 64, 'num_layers': 1, 'dropout': 0.0}. Best is trial 0 with value: 0.0034854873083531857.\n"
     ]
    },
    {
     "name": "stdout",
     "output_type": "stream",
     "text": [
      "Epoch: 0, train loss: 0.53828, test loss: 0.78871\n",
      "Epoch: 100, train loss: 0.00238, test loss: 0.00570\n",
      "Epoch: 200, train loss: 0.00147, test loss: 0.00753\n",
      "Epoch: 300, train loss: 0.00117, test loss: 0.00751\n",
      "Epoch: 400, train loss: 0.00093, test loss: 0.00651\n",
      "Epoch: 500, train loss: 0.00079, test loss: 0.00570\n",
      "Epoch: 600, train loss: 0.00074, test loss: 0.00512\n",
      "Epoch: 700, train loss: 0.00064, test loss: 0.00524\n",
      "Epoch: 800, train loss: 0.00059, test loss: 0.00483\n",
      "Epoch: 900, train loss: 0.00055, test loss: 0.00535\n"
     ]
    },
    {
     "name": "stderr",
     "output_type": "stream",
     "text": [
      "[I 2024-12-09 12:03:46,813] Trial 8 finished with value: 0.005657079163938761 and parameters: {'lr': 0.0007245353958703425, 'hidden_size': 32, 'num_layers': 2, 'dropout': 0.35000000000000003}. Best is trial 0 with value: 0.0034854873083531857.\n"
     ]
    },
    {
     "name": "stdout",
     "output_type": "stream",
     "text": [
      "Epoch: 0, train loss: 0.53115, test loss: 0.77251\n",
      "Epoch: 100, train loss: 0.00188, test loss: 0.00399\n",
      "Epoch: 200, train loss: 0.00085, test loss: 0.00588\n",
      "Epoch: 300, train loss: 0.00069, test loss: 0.00715\n",
      "Epoch: 400, train loss: 0.00060, test loss: 0.00749\n",
      "Epoch: 500, train loss: 0.00055, test loss: 0.00745\n",
      "Epoch: 600, train loss: 0.00050, test loss: 0.00746\n",
      "Epoch: 700, train loss: 0.00046, test loss: 0.00743\n",
      "Epoch: 800, train loss: 0.00043, test loss: 0.00718\n",
      "Epoch: 900, train loss: 0.00039, test loss: 0.00730\n"
     ]
    },
    {
     "name": "stderr",
     "output_type": "stream",
     "text": [
      "[I 2024-12-09 12:03:52,779] Trial 9 finished with value: 0.0069528669118881226 and parameters: {'lr': 0.0010172323491742907, 'hidden_size': 32, 'num_layers': 3, 'dropout': 0.05}. Best is trial 0 with value: 0.0034854873083531857.\n"
     ]
    },
    {
     "name": "stdout",
     "output_type": "stream",
     "text": [
      "Epoch: 0, train loss: 0.54868, test loss: 0.63979\n",
      "Epoch: 100, train loss: 0.00112, test loss: 0.00211\n",
      "Epoch: 200, train loss: 0.00084, test loss: 0.00296\n",
      "Epoch: 300, train loss: 0.00064, test loss: 0.00536\n",
      "Epoch: 400, train loss: 0.00056, test loss: 0.00829\n",
      "Epoch: 500, train loss: 0.00048, test loss: 0.01112\n",
      "Epoch: 600, train loss: 0.00042, test loss: 0.01384\n",
      "Epoch: 700, train loss: 0.00040, test loss: 0.01530\n",
      "Epoch: 800, train loss: 0.00037, test loss: 0.01665\n",
      "Epoch: 900, train loss: 0.00033, test loss: 0.01732\n"
     ]
    },
    {
     "name": "stderr",
     "output_type": "stream",
     "text": [
      "[I 2024-12-09 12:03:58,591] Trial 10 finished with value: 0.017727578058838844 and parameters: {'lr': 0.009318567218552433, 'hidden_size': 16, 'num_layers': 3, 'dropout': 0.30000000000000004}. Best is trial 0 with value: 0.0034854873083531857.\n"
     ]
    },
    {
     "name": "stdout",
     "output_type": "stream",
     "text": [
      "Epoch: 0, train loss: 0.56430, test loss: 0.82898\n",
      "Epoch: 100, train loss: 0.03531, test loss: 0.07641\n",
      "Epoch: 200, train loss: 0.00551, test loss: 0.01948\n",
      "Epoch: 300, train loss: 0.00314, test loss: 0.01097\n",
      "Epoch: 400, train loss: 0.00222, test loss: 0.01214\n",
      "Epoch: 500, train loss: 0.00183, test loss: 0.01534\n",
      "Epoch: 600, train loss: 0.00162, test loss: 0.01776\n",
      "Epoch: 700, train loss: 0.00150, test loss: 0.01922\n",
      "Epoch: 800, train loss: 0.00137, test loss: 0.01982\n",
      "Epoch: 900, train loss: 0.00121, test loss: 0.01999\n"
     ]
    },
    {
     "name": "stderr",
     "output_type": "stream",
     "text": [
      "[I 2024-12-09 12:04:04,166] Trial 11 finished with value: 0.0198680367320776 and parameters: {'lr': 0.0002284579293493567, 'hidden_size': 16, 'num_layers': 3, 'dropout': 0.2}. Best is trial 0 with value: 0.0034854873083531857.\n"
     ]
    },
    {
     "name": "stdout",
     "output_type": "stream",
     "text": [
      "Epoch: 0, train loss: 0.51910, test loss: 0.77169\n",
      "Epoch: 100, train loss: 0.00357, test loss: 0.00641\n",
      "Epoch: 200, train loss: 0.00135, test loss: 0.00688\n",
      "Epoch: 300, train loss: 0.00107, test loss: 0.00789\n",
      "Epoch: 400, train loss: 0.00090, test loss: 0.00886\n",
      "Epoch: 500, train loss: 0.00076, test loss: 0.00971\n",
      "Epoch: 600, train loss: 0.00069, test loss: 0.00951\n",
      "Epoch: 700, train loss: 0.00066, test loss: 0.00920\n",
      "Epoch: 800, train loss: 0.00060, test loss: 0.00857\n",
      "Epoch: 900, train loss: 0.00056, test loss: 0.00828\n"
     ]
    },
    {
     "name": "stderr",
     "output_type": "stream",
     "text": [
      "[I 2024-12-09 12:04:12,765] Trial 12 finished with value: 0.007899735122919083 and parameters: {'lr': 0.0003539302903349538, 'hidden_size': 64, 'num_layers': 3, 'dropout': 0.2}. Best is trial 0 with value: 0.0034854873083531857.\n"
     ]
    },
    {
     "name": "stdout",
     "output_type": "stream",
     "text": [
      "Epoch: 0, train loss: 0.54522, test loss: 0.77938\n",
      "Epoch: 100, train loss: 0.00173, test loss: 0.00187\n",
      "Epoch: 200, train loss: 0.00088, test loss: 0.00415\n",
      "Epoch: 300, train loss: 0.00076, test loss: 0.00515\n",
      "Epoch: 400, train loss: 0.00067, test loss: 0.00614\n",
      "Epoch: 500, train loss: 0.00060, test loss: 0.00673\n",
      "Epoch: 600, train loss: 0.00054, test loss: 0.00777\n",
      "Epoch: 700, train loss: 0.00048, test loss: 0.00870\n",
      "Epoch: 800, train loss: 0.00043, test loss: 0.00927\n",
      "Epoch: 900, train loss: 0.00038, test loss: 0.00963\n"
     ]
    },
    {
     "name": "stderr",
     "output_type": "stream",
     "text": [
      "[I 2024-12-09 12:04:19,072] Trial 13 finished with value: 0.009920150972902775 and parameters: {'lr': 0.0014935938519576872, 'hidden_size': 32, 'num_layers': 3, 'dropout': 0.15000000000000002}. Best is trial 0 with value: 0.0034854873083531857.\n"
     ]
    },
    {
     "name": "stdout",
     "output_type": "stream",
     "text": [
      "Epoch: 0, train loss: 0.57238, test loss: 0.83682\n",
      "Epoch: 100, train loss: 0.03939, test loss: 0.06767\n",
      "Epoch: 200, train loss: 0.00527, test loss: 0.00521\n",
      "Epoch: 300, train loss: 0.00273, test loss: 0.00432\n",
      "Epoch: 400, train loss: 0.00219, test loss: 0.00526\n",
      "Epoch: 500, train loss: 0.00173, test loss: 0.00592\n",
      "Epoch: 600, train loss: 0.00154, test loss: 0.00658\n",
      "Epoch: 700, train loss: 0.00140, test loss: 0.00712\n",
      "Epoch: 800, train loss: 0.00133, test loss: 0.00784\n",
      "Epoch: 900, train loss: 0.00117, test loss: 0.00811\n"
     ]
    },
    {
     "name": "stderr",
     "output_type": "stream",
     "text": [
      "[I 2024-12-09 12:04:24,107] Trial 14 finished with value: 0.00883090402930975 and parameters: {'lr': 0.00023094708706342075, 'hidden_size': 16, 'num_layers': 3, 'dropout': 0.25}. Best is trial 0 with value: 0.0034854873083531857.\n"
     ]
    },
    {
     "name": "stdout",
     "output_type": "stream",
     "text": [
      "Epoch: 0, train loss: 0.57793, test loss: 0.80990\n",
      "Epoch: 100, train loss: 0.00112, test loss: 0.00166\n",
      "Epoch: 200, train loss: 0.00067, test loss: 0.00381\n",
      "Epoch: 300, train loss: 0.00053, test loss: 0.00509\n",
      "Epoch: 400, train loss: 0.00047, test loss: 0.00582\n",
      "Epoch: 500, train loss: 0.00038, test loss: 0.00629\n",
      "Epoch: 600, train loss: 0.00032, test loss: 0.00624\n",
      "Epoch: 700, train loss: 0.00029, test loss: 0.00619\n",
      "Epoch: 800, train loss: 0.00028, test loss: 0.00605\n",
      "Epoch: 900, train loss: 0.00027, test loss: 0.00563\n"
     ]
    },
    {
     "name": "stderr",
     "output_type": "stream",
     "text": [
      "[I 2024-12-09 12:04:32,477] Trial 15 finished with value: 0.0053917174227535725 and parameters: {'lr': 0.0019240088087773698, 'hidden_size': 64, 'num_layers': 3, 'dropout': 0.1}. Best is trial 0 with value: 0.0034854873083531857.\n"
     ]
    },
    {
     "name": "stdout",
     "output_type": "stream",
     "text": [
      "Epoch: 0, train loss: 0.56113, test loss: 0.81695\n",
      "Epoch: 100, train loss: 0.00243, test loss: 0.00624\n",
      "Epoch: 200, train loss: 0.00141, test loss: 0.00613\n",
      "Epoch: 300, train loss: 0.00111, test loss: 0.00705\n",
      "Epoch: 400, train loss: 0.00093, test loss: 0.00781\n",
      "Epoch: 500, train loss: 0.00085, test loss: 0.00883\n",
      "Epoch: 600, train loss: 0.00074, test loss: 0.00912\n",
      "Epoch: 700, train loss: 0.00067, test loss: 0.00957\n",
      "Epoch: 800, train loss: 0.00060, test loss: 0.01024\n",
      "Epoch: 900, train loss: 0.00054, test loss: 0.01003\n"
     ]
    },
    {
     "name": "stderr",
     "output_type": "stream",
     "text": [
      "[I 2024-12-09 12:04:37,198] Trial 16 finished with value: 0.010865774005651474 and parameters: {'lr': 0.0007266130129005809, 'hidden_size': 32, 'num_layers': 2, 'dropout': 0.30000000000000004}. Best is trial 0 with value: 0.0034854873083531857.\n"
     ]
    },
    {
     "name": "stdout",
     "output_type": "stream",
     "text": [
      "Epoch: 0, train loss: 0.50780, test loss: 0.75449\n",
      "Epoch: 100, train loss: 0.00476, test loss: 0.00591\n",
      "Epoch: 200, train loss: 0.00163, test loss: 0.00640\n",
      "Epoch: 300, train loss: 0.00114, test loss: 0.00656\n",
      "Epoch: 400, train loss: 0.00103, test loss: 0.00700\n",
      "Epoch: 500, train loss: 0.00090, test loss: 0.00695\n",
      "Epoch: 600, train loss: 0.00080, test loss: 0.00683\n",
      "Epoch: 700, train loss: 0.00078, test loss: 0.00661\n",
      "Epoch: 800, train loss: 0.00076, test loss: 0.00665\n",
      "Epoch: 900, train loss: 0.00066, test loss: 0.00672\n"
     ]
    },
    {
     "name": "stderr",
     "output_type": "stream",
     "text": [
      "[I 2024-12-09 12:04:42,950] Trial 17 finished with value: 0.0067076790146529675 and parameters: {'lr': 0.00032935260842004946, 'hidden_size': 32, 'num_layers': 3, 'dropout': 0.15000000000000002}. Best is trial 0 with value: 0.0034854873083531857.\n"
     ]
    },
    {
     "name": "stdout",
     "output_type": "stream",
     "text": [
      "Epoch: 0, train loss: 0.51876, test loss: 0.77100\n",
      "Epoch: 100, train loss: 0.03443, test loss: 0.09790\n",
      "Epoch: 200, train loss: 0.00231, test loss: 0.02558\n",
      "Epoch: 300, train loss: 0.00179, test loss: 0.01867\n",
      "Epoch: 400, train loss: 0.00155, test loss: 0.01655\n",
      "Epoch: 500, train loss: 0.00139, test loss: 0.01568\n",
      "Epoch: 600, train loss: 0.00120, test loss: 0.01518\n",
      "Epoch: 700, train loss: 0.00115, test loss: 0.01474\n",
      "Epoch: 800, train loss: 0.00105, test loss: 0.01458\n",
      "Epoch: 900, train loss: 0.00103, test loss: 0.01437\n"
     ]
    },
    {
     "name": "stderr",
     "output_type": "stream",
     "text": [
      "[I 2024-12-09 12:04:49,056] Trial 18 finished with value: 0.014438615180552006 and parameters: {'lr': 0.00010909248977416695, 'hidden_size': 64, 'num_layers': 2, 'dropout': 0.25}. Best is trial 0 with value: 0.0034854873083531857.\n"
     ]
    },
    {
     "name": "stdout",
     "output_type": "stream",
     "text": [
      "Epoch: 0, train loss: 0.55952, test loss: 0.69553\n",
      "Epoch: 100, train loss: 0.00091, test loss: 0.00251\n",
      "Epoch: 200, train loss: 0.00068, test loss: 0.00371\n",
      "Epoch: 300, train loss: 0.00060, test loss: 0.00425\n",
      "Epoch: 400, train loss: 0.00054, test loss: 0.00486\n",
      "Epoch: 500, train loss: 0.00046, test loss: 0.00570\n",
      "Epoch: 600, train loss: 0.00039, test loss: 0.00725\n",
      "Epoch: 700, train loss: 0.00035, test loss: 0.00912\n",
      "Epoch: 800, train loss: 0.00033, test loss: 0.01132\n",
      "Epoch: 900, train loss: 0.00030, test loss: 0.01289\n"
     ]
    },
    {
     "name": "stderr",
     "output_type": "stream",
     "text": [
      "[I 2024-12-09 12:04:54,069] Trial 19 finished with value: 0.01362618524581194 and parameters: {'lr': 0.007257428101662321, 'hidden_size': 16, 'num_layers': 3, 'dropout': 0.1}. Best is trial 0 with value: 0.0034854873083531857.\n"
     ]
    },
    {
     "name": "stdout",
     "output_type": "stream",
     "text": [
      "Epoch: 0, train loss: 0.52023, test loss: 0.73363\n",
      "Epoch: 100, train loss: 0.00113, test loss: 0.00131\n",
      "Epoch: 200, train loss: 0.00074, test loss: 0.00318\n",
      "Epoch: 300, train loss: 0.00057, test loss: 0.00512\n",
      "Epoch: 400, train loss: 0.00044, test loss: 0.00654\n",
      "Epoch: 500, train loss: 0.00036, test loss: 0.00675\n",
      "Epoch: 600, train loss: 0.00033, test loss: 0.00715\n",
      "Epoch: 700, train loss: 0.00030, test loss: 0.00768\n",
      "Epoch: 800, train loss: 0.00028, test loss: 0.00751\n",
      "Epoch: 900, train loss: 0.00026, test loss: 0.00725\n"
     ]
    },
    {
     "name": "stderr",
     "output_type": "stream",
     "text": [
      "[I 2024-12-09 12:05:00,394] Trial 20 finished with value: 0.007062672171741724 and parameters: {'lr': 0.002232929928654689, 'hidden_size': 64, 'num_layers': 2, 'dropout': 0.30000000000000004}. Best is trial 0 with value: 0.0034854873083531857.\n"
     ]
    },
    {
     "name": "stdout",
     "output_type": "stream",
     "text": [
      "Epoch: 0, train loss: 0.45298, test loss: 0.67617\n",
      "Epoch: 100, train loss: 0.00296, test loss: 0.01781\n",
      "Epoch: 200, train loss: 0.00191, test loss: 0.01222\n",
      "Epoch: 300, train loss: 0.00153, test loss: 0.01077\n",
      "Epoch: 400, train loss: 0.00114, test loss: 0.00976\n",
      "Epoch: 500, train loss: 0.00105, test loss: 0.00875\n",
      "Epoch: 600, train loss: 0.00098, test loss: 0.00839\n",
      "Epoch: 700, train loss: 0.00083, test loss: 0.00899\n",
      "Epoch: 800, train loss: 0.00075, test loss: 0.00798\n",
      "Epoch: 900, train loss: 0.00074, test loss: 0.00812\n"
     ]
    },
    {
     "name": "stderr",
     "output_type": "stream",
     "text": [
      "[I 2024-12-09 12:05:05,726] Trial 21 finished with value: 0.008201153948903084 and parameters: {'lr': 0.0005420223647633379, 'hidden_size': 32, 'num_layers': 2, 'dropout': 0.4}. Best is trial 0 with value: 0.0034854873083531857.\n"
     ]
    },
    {
     "name": "stdout",
     "output_type": "stream",
     "text": [
      "Epoch: 0, train loss: 0.53547, test loss: 0.78247\n",
      "Epoch: 100, train loss: 0.00177, test loss: 0.00914\n",
      "Epoch: 200, train loss: 0.00110, test loss: 0.00904\n",
      "Epoch: 300, train loss: 0.00086, test loss: 0.00951\n",
      "Epoch: 400, train loss: 0.00080, test loss: 0.00971\n",
      "Epoch: 500, train loss: 0.00069, test loss: 0.01005\n",
      "Epoch: 600, train loss: 0.00064, test loss: 0.00987\n",
      "Epoch: 700, train loss: 0.00054, test loss: 0.01028\n",
      "Epoch: 800, train loss: 0.00051, test loss: 0.01055\n",
      "Epoch: 900, train loss: 0.00046, test loss: 0.01048\n"
     ]
    },
    {
     "name": "stderr",
     "output_type": "stream",
     "text": [
      "[I 2024-12-09 12:05:10,481] Trial 22 finished with value: 0.010106491856276989 and parameters: {'lr': 0.0009244092782241615, 'hidden_size': 32, 'num_layers': 2, 'dropout': 0.2}. Best is trial 0 with value: 0.0034854873083531857.\n"
     ]
    },
    {
     "name": "stdout",
     "output_type": "stream",
     "text": [
      "Epoch: 0, train loss: 0.47576, test loss: 0.71307\n",
      "Epoch: 100, train loss: 0.00389, test loss: 0.01852\n",
      "Epoch: 200, train loss: 0.00170, test loss: 0.00931\n",
      "Epoch: 300, train loss: 0.00139, test loss: 0.01026\n",
      "Epoch: 400, train loss: 0.00119, test loss: 0.00984\n",
      "Epoch: 500, train loss: 0.00106, test loss: 0.00929\n",
      "Epoch: 600, train loss: 0.00091, test loss: 0.00882\n",
      "Epoch: 700, train loss: 0.00085, test loss: 0.00846\n",
      "Epoch: 800, train loss: 0.00075, test loss: 0.00861\n",
      "Epoch: 900, train loss: 0.00071, test loss: 0.00875\n"
     ]
    },
    {
     "name": "stderr",
     "output_type": "stream",
     "text": [
      "[I 2024-12-09 12:05:15,654] Trial 23 finished with value: 0.0086001455783844 and parameters: {'lr': 0.00039704306179407515, 'hidden_size': 32, 'num_layers': 2, 'dropout': 0.35000000000000003}. Best is trial 0 with value: 0.0034854873083531857.\n"
     ]
    },
    {
     "name": "stdout",
     "output_type": "stream",
     "text": [
      "Epoch: 0, train loss: 0.53776, test loss: 0.78007\n",
      "Epoch: 100, train loss: 0.00191, test loss: 0.00316\n",
      "Epoch: 200, train loss: 0.00106, test loss: 0.00506\n",
      "Epoch: 300, train loss: 0.00085, test loss: 0.00736\n",
      "Epoch: 400, train loss: 0.00076, test loss: 0.00806\n",
      "Epoch: 500, train loss: 0.00069, test loss: 0.00856\n",
      "Epoch: 600, train loss: 0.00067, test loss: 0.00901\n",
      "Epoch: 700, train loss: 0.00061, test loss: 0.00961\n",
      "Epoch: 800, train loss: 0.00056, test loss: 0.01064\n",
      "Epoch: 900, train loss: 0.00047, test loss: 0.01163\n"
     ]
    },
    {
     "name": "stderr",
     "output_type": "stream",
     "text": [
      "[I 2024-12-09 12:05:21,545] Trial 24 finished with value: 0.01251912396401167 and parameters: {'lr': 0.0011954903863857632, 'hidden_size': 32, 'num_layers': 3, 'dropout': 0.25}. Best is trial 0 with value: 0.0034854873083531857.\n",
      "c:\\Users\\limfy\\anaconda3\\Lib\\site-packages\\torch\\nn\\modules\\rnn.py:123: UserWarning: dropout option adds dropout after all but last recurrent layer, so non-zero dropout expects num_layers greater than 1, but got dropout=0.15000000000000002 and num_layers=1\n",
      "  warnings.warn(\n"
     ]
    },
    {
     "name": "stdout",
     "output_type": "stream",
     "text": [
      "Epoch: 0, train loss: 0.56533, test loss: 0.82023\n",
      "Epoch: 100, train loss: 0.00488, test loss: 0.09870\n",
      "Epoch: 200, train loss: 0.00171, test loss: 0.07972\n",
      "Epoch: 300, train loss: 0.00119, test loss: 0.07456\n",
      "Epoch: 400, train loss: 0.00096, test loss: 0.07058\n",
      "Epoch: 500, train loss: 0.00081, test loss: 0.06816\n",
      "Epoch: 600, train loss: 0.00071, test loss: 0.06638\n",
      "Epoch: 700, train loss: 0.00063, test loss: 0.06520\n",
      "Epoch: 800, train loss: 0.00057, test loss: 0.06425\n",
      "Epoch: 900, train loss: 0.00051, test loss: 0.06362\n"
     ]
    },
    {
     "name": "stderr",
     "output_type": "stream",
     "text": [
      "[I 2024-12-09 12:05:24,968] Trial 25 finished with value: 0.06319458037614822 and parameters: {'lr': 0.00044974746019056314, 'hidden_size': 32, 'num_layers': 1, 'dropout': 0.15000000000000002}. Best is trial 0 with value: 0.0034854873083531857.\n"
     ]
    },
    {
     "name": "stdout",
     "output_type": "stream",
     "text": [
      "Epoch: 0, train loss: 0.57450, test loss: 0.83282\n",
      "Epoch: 100, train loss: 0.00279, test loss: 0.00474\n",
      "Epoch: 200, train loss: 0.00144, test loss: 0.00586\n",
      "Epoch: 300, train loss: 0.00122, test loss: 0.00514\n",
      "Epoch: 400, train loss: 0.00098, test loss: 0.00533\n",
      "Epoch: 500, train loss: 0.00090, test loss: 0.00575\n",
      "Epoch: 600, train loss: 0.00079, test loss: 0.00651\n",
      "Epoch: 700, train loss: 0.00072, test loss: 0.00695\n",
      "Epoch: 800, train loss: 0.00069, test loss: 0.00804\n",
      "Epoch: 900, train loss: 0.00063, test loss: 0.00907\n"
     ]
    },
    {
     "name": "stderr",
     "output_type": "stream",
     "text": [
      "[I 2024-12-09 12:05:30,680] Trial 26 finished with value: 0.009898260235786438 and parameters: {'lr': 0.0006712501562258337, 'hidden_size': 32, 'num_layers': 3, 'dropout': 0.35000000000000003}. Best is trial 0 with value: 0.0034854873083531857.\n"
     ]
    },
    {
     "name": "stdout",
     "output_type": "stream",
     "text": [
      "Epoch: 0, train loss: 0.47707, test loss: 0.72390\n",
      "Epoch: 100, train loss: 0.01161, test loss: 0.06734\n",
      "Epoch: 200, train loss: 0.00264, test loss: 0.01412\n",
      "Epoch: 300, train loss: 0.00171, test loss: 0.00763\n",
      "Epoch: 400, train loss: 0.00137, test loss: 0.00520\n",
      "Epoch: 500, train loss: 0.00117, test loss: 0.00407\n",
      "Epoch: 600, train loss: 0.00103, test loss: 0.00406\n",
      "Epoch: 700, train loss: 0.00099, test loss: 0.00419\n",
      "Epoch: 800, train loss: 0.00089, test loss: 0.00427\n",
      "Epoch: 900, train loss: 0.00080, test loss: 0.00488\n"
     ]
    },
    {
     "name": "stderr",
     "output_type": "stream",
     "text": [
      "[I 2024-12-09 12:05:35,764] Trial 27 finished with value: 0.005007891915738583 and parameters: {'lr': 0.00023021908458871555, 'hidden_size': 32, 'num_layers': 2, 'dropout': 0.2}. Best is trial 0 with value: 0.0034854873083531857.\n"
     ]
    },
    {
     "name": "stdout",
     "output_type": "stream",
     "text": [
      "Epoch: 0, train loss: 0.57182, test loss: 0.81460\n",
      "Epoch: 100, train loss: 0.00243, test loss: 0.00159\n",
      "Epoch: 200, train loss: 0.00098, test loss: 0.00670\n",
      "Epoch: 300, train loss: 0.00075, test loss: 0.00977\n",
      "Epoch: 400, train loss: 0.00071, test loss: 0.00936\n",
      "Epoch: 500, train loss: 0.00065, test loss: 0.00853\n",
      "Epoch: 600, train loss: 0.00061, test loss: 0.00772\n",
      "Epoch: 700, train loss: 0.00057, test loss: 0.00715\n",
      "Epoch: 800, train loss: 0.00054, test loss: 0.00692\n",
      "Epoch: 900, train loss: 0.00051, test loss: 0.00730\n"
     ]
    },
    {
     "name": "stderr",
     "output_type": "stream",
     "text": [
      "[I 2024-12-09 12:05:40,879] Trial 28 finished with value: 0.00781608372926712 and parameters: {'lr': 0.0011658044703944626, 'hidden_size': 16, 'num_layers': 3, 'dropout': 0.05}. Best is trial 0 with value: 0.0034854873083531857.\n",
      "c:\\Users\\limfy\\anaconda3\\Lib\\site-packages\\torch\\nn\\modules\\rnn.py:123: UserWarning: dropout option adds dropout after all but last recurrent layer, so non-zero dropout expects num_layers greater than 1, but got dropout=0.4 and num_layers=1\n",
      "  warnings.warn(\n"
     ]
    },
    {
     "name": "stdout",
     "output_type": "stream",
     "text": [
      "Epoch: 0, train loss: 0.50585, test loss: 0.72643\n",
      "Epoch: 100, train loss: 0.03537, test loss: 0.18867\n",
      "Epoch: 200, train loss: 0.00330, test loss: 0.14418\n",
      "Epoch: 300, train loss: 0.00168, test loss: 0.10780\n",
      "Epoch: 400, train loss: 0.00127, test loss: 0.09347\n",
      "Epoch: 500, train loss: 0.00106, test loss: 0.08695\n",
      "Epoch: 600, train loss: 0.00091, test loss: 0.08401\n",
      "Epoch: 700, train loss: 0.00081, test loss: 0.08323\n",
      "Epoch: 800, train loss: 0.00072, test loss: 0.08312\n",
      "Epoch: 900, train loss: 0.00066, test loss: 0.08348\n"
     ]
    },
    {
     "name": "stderr",
     "output_type": "stream",
     "text": [
      "[I 2024-12-09 12:05:44,943] Trial 29 finished with value: 0.0845026820898056 and parameters: {'lr': 0.0001614127745614682, 'hidden_size': 64, 'num_layers': 1, 'dropout': 0.4}. Best is trial 0 with value: 0.0034854873083531857.\n"
     ]
    },
    {
     "name": "stdout",
     "output_type": "stream",
     "text": [
      "Epoch: 0, train loss: 0.51309, test loss: 0.72297\n",
      "Epoch: 100, train loss: 0.00102, test loss: 0.00172\n",
      "Epoch: 200, train loss: 0.00067, test loss: 0.00300\n",
      "Epoch: 300, train loss: 0.00055, test loss: 0.00431\n",
      "Epoch: 400, train loss: 0.00045, test loss: 0.00430\n",
      "Epoch: 500, train loss: 0.00038, test loss: 0.00470\n",
      "Epoch: 600, train loss: 0.00034, test loss: 0.00472\n",
      "Epoch: 700, train loss: 0.00030, test loss: 0.00479\n",
      "Epoch: 800, train loss: 0.00028, test loss: 0.00477\n",
      "Epoch: 900, train loss: 0.00025, test loss: 0.00446\n"
     ]
    },
    {
     "name": "stderr",
     "output_type": "stream",
     "text": [
      "[I 2024-12-09 12:05:50,993] Trial 30 finished with value: 0.004322407301515341 and parameters: {'lr': 0.0023794893925676353, 'hidden_size': 64, 'num_layers': 2, 'dropout': 0.30000000000000004}. Best is trial 0 with value: 0.0034854873083531857.\n"
     ]
    },
    {
     "name": "stdout",
     "output_type": "stream",
     "text": [
      "Epoch: 0, train loss: 0.50360, test loss: 0.69011\n",
      "Epoch: 100, train loss: 0.00103, test loss: 0.00167\n",
      "Epoch: 200, train loss: 0.00070, test loss: 0.00392\n",
      "Epoch: 300, train loss: 0.00051, test loss: 0.00496\n",
      "Epoch: 400, train loss: 0.00043, test loss: 0.00480\n",
      "Epoch: 500, train loss: 0.00037, test loss: 0.00543\n",
      "Epoch: 600, train loss: 0.00033, test loss: 0.00586\n",
      "Epoch: 700, train loss: 0.00030, test loss: 0.00626\n",
      "Epoch: 800, train loss: 0.00028, test loss: 0.00644\n",
      "Epoch: 900, train loss: 0.00026, test loss: 0.00676\n"
     ]
    },
    {
     "name": "stderr",
     "output_type": "stream",
     "text": [
      "[I 2024-12-09 12:05:57,280] Trial 31 finished with value: 0.007216565776616335 and parameters: {'lr': 0.0026467731658743193, 'hidden_size': 64, 'num_layers': 2, 'dropout': 0.4}. Best is trial 0 with value: 0.0034854873083531857.\n"
     ]
    },
    {
     "name": "stdout",
     "output_type": "stream",
     "text": [
      "Epoch: 0, train loss: 0.50916, test loss: 0.65738\n",
      "Epoch: 100, train loss: 0.00082, test loss: 0.00425\n",
      "Epoch: 200, train loss: 0.00058, test loss: 0.00807\n",
      "Epoch: 300, train loss: 0.00044, test loss: 0.00950\n",
      "Epoch: 400, train loss: 0.00033, test loss: 0.01008\n",
      "Epoch: 500, train loss: 0.00027, test loss: 0.01042\n",
      "Epoch: 600, train loss: 0.00023, test loss: 0.01073\n",
      "Epoch: 700, train loss: 0.00021, test loss: 0.01002\n",
      "Epoch: 800, train loss: 0.00019, test loss: 0.00979\n",
      "Epoch: 900, train loss: 0.00017, test loss: 0.01041\n"
     ]
    },
    {
     "name": "stderr",
     "output_type": "stream",
     "text": [
      "[I 2024-12-09 12:06:03,373] Trial 32 finished with value: 0.010005285032093525 and parameters: {'lr': 0.004950237820715859, 'hidden_size': 64, 'num_layers': 2, 'dropout': 0.30000000000000004}. Best is trial 0 with value: 0.0034854873083531857.\n"
     ]
    },
    {
     "name": "stdout",
     "output_type": "stream",
     "text": [
      "Epoch: 0, train loss: 0.56725, test loss: 0.80931\n",
      "Epoch: 100, train loss: 0.00145, test loss: 0.00325\n",
      "Epoch: 200, train loss: 0.00092, test loss: 0.00580\n",
      "Epoch: 300, train loss: 0.00075, test loss: 0.00679\n",
      "Epoch: 400, train loss: 0.00064, test loss: 0.00722\n",
      "Epoch: 500, train loss: 0.00055, test loss: 0.00833\n",
      "Epoch: 600, train loss: 0.00049, test loss: 0.00783\n",
      "Epoch: 700, train loss: 0.00042, test loss: 0.00773\n",
      "Epoch: 800, train loss: 0.00035, test loss: 0.00837\n",
      "Epoch: 900, train loss: 0.00032, test loss: 0.00940\n"
     ]
    },
    {
     "name": "stderr",
     "output_type": "stream",
     "text": [
      "[I 2024-12-09 12:06:09,694] Trial 33 finished with value: 0.010291515849530697 and parameters: {'lr': 0.0015831565616438272, 'hidden_size': 64, 'num_layers': 2, 'dropout': 0.35000000000000003}. Best is trial 0 with value: 0.0034854873083531857.\n"
     ]
    },
    {
     "name": "stdout",
     "output_type": "stream",
     "text": [
      "Epoch: 0, train loss: 0.50420, test loss: 0.65463\n",
      "Epoch: 100, train loss: 0.00080, test loss: 0.03935\n",
      "Epoch: 200, train loss: 0.00050, test loss: 0.04690\n",
      "Epoch: 300, train loss: 0.00036, test loss: 0.05311\n",
      "Epoch: 400, train loss: 0.00027, test loss: 0.05502\n",
      "Epoch: 500, train loss: 0.00022, test loss: 0.05418\n",
      "Epoch: 600, train loss: 0.00019, test loss: 0.05390\n",
      "Epoch: 700, train loss: 0.00016, test loss: 0.05474\n",
      "Epoch: 800, train loss: 0.00014, test loss: 0.05522\n",
      "Epoch: 900, train loss: 0.00012, test loss: 0.05591\n"
     ]
    },
    {
     "name": "stderr",
     "output_type": "stream",
     "text": [
      "[I 2024-12-09 12:06:13,383] Trial 34 finished with value: 0.05677672103047371 and parameters: {'lr': 0.0038469043805648066, 'hidden_size': 64, 'num_layers': 1, 'dropout': 0.25}. Best is trial 0 with value: 0.0034854873083531857.\n"
     ]
    },
    {
     "name": "stdout",
     "output_type": "stream",
     "text": [
      "Epoch: 0, train loss: 0.51484, test loss: 0.76843\n",
      "Epoch: 100, train loss: 0.00204, test loss: 0.01051\n",
      "Epoch: 200, train loss: 0.00132, test loss: 0.00927\n",
      "Epoch: 300, train loss: 0.00097, test loss: 0.00807\n",
      "Epoch: 400, train loss: 0.00084, test loss: 0.00845\n",
      "Epoch: 500, train loss: 0.00073, test loss: 0.00867\n",
      "Epoch: 600, train loss: 0.00066, test loss: 0.00938\n",
      "Epoch: 700, train loss: 0.00058, test loss: 0.00948\n",
      "Epoch: 800, train loss: 0.00053, test loss: 0.01001\n",
      "Epoch: 900, train loss: 0.00046, test loss: 0.01037\n"
     ]
    },
    {
     "name": "stderr",
     "output_type": "stream",
     "text": [
      "[I 2024-12-09 12:06:19,427] Trial 35 finished with value: 0.010649851523339748 and parameters: {'lr': 0.000540105177839626, 'hidden_size': 64, 'num_layers': 2, 'dropout': 0.25}. Best is trial 0 with value: 0.0034854873083531857.\n"
     ]
    },
    {
     "name": "stdout",
     "output_type": "stream",
     "text": [
      "Epoch: 0, train loss: 0.54972, test loss: 0.80449\n",
      "Epoch: 100, train loss: 0.00159, test loss: 0.00824\n",
      "Epoch: 200, train loss: 0.00097, test loss: 0.00879\n",
      "Epoch: 300, train loss: 0.00078, test loss: 0.00886\n",
      "Epoch: 400, train loss: 0.00071, test loss: 0.00862\n",
      "Epoch: 500, train loss: 0.00063, test loss: 0.00806\n",
      "Epoch: 600, train loss: 0.00056, test loss: 0.00812\n",
      "Epoch: 700, train loss: 0.00049, test loss: 0.00832\n",
      "Epoch: 800, train loss: 0.00042, test loss: 0.00768\n",
      "Epoch: 900, train loss: 0.00036, test loss: 0.00785\n"
     ]
    },
    {
     "name": "stderr",
     "output_type": "stream",
     "text": [
      "[I 2024-12-09 12:06:25,433] Trial 36 finished with value: 0.007400539703667164 and parameters: {'lr': 0.0009035800798172067, 'hidden_size': 64, 'num_layers': 2, 'dropout': 0.2}. Best is trial 0 with value: 0.0034854873083531857.\n",
      "c:\\Users\\limfy\\anaconda3\\Lib\\site-packages\\torch\\nn\\modules\\rnn.py:123: UserWarning: dropout option adds dropout after all but last recurrent layer, so non-zero dropout expects num_layers greater than 1, but got dropout=0.30000000000000004 and num_layers=1\n",
      "  warnings.warn(\n"
     ]
    },
    {
     "name": "stdout",
     "output_type": "stream",
     "text": [
      "Epoch: 0, train loss: 0.55080, test loss: 0.77840\n",
      "Epoch: 100, train loss: 0.00146, test loss: 0.03915\n",
      "Epoch: 200, train loss: 0.00082, test loss: 0.03816\n",
      "Epoch: 300, train loss: 0.00059, test loss: 0.03739\n",
      "Epoch: 400, train loss: 0.00045, test loss: 0.03719\n",
      "Epoch: 500, train loss: 0.00036, test loss: 0.03731\n",
      "Epoch: 600, train loss: 0.00030, test loss: 0.03778\n",
      "Epoch: 700, train loss: 0.00026, test loss: 0.03812\n",
      "Epoch: 800, train loss: 0.00023, test loss: 0.03835\n",
      "Epoch: 900, train loss: 0.00021, test loss: 0.03849\n"
     ]
    },
    {
     "name": "stderr",
     "output_type": "stream",
     "text": [
      "[I 2024-12-09 12:06:28,449] Trial 37 finished with value: 0.03863508626818657 and parameters: {'lr': 0.0020640283779169415, 'hidden_size': 32, 'num_layers': 1, 'dropout': 0.30000000000000004}. Best is trial 0 with value: 0.0034854873083531857.\n"
     ]
    },
    {
     "name": "stdout",
     "output_type": "stream",
     "text": [
      "Epoch: 0, train loss: 0.52242, test loss: 0.74939\n",
      "Epoch: 100, train loss: 0.00147, test loss: 0.00605\n",
      "Epoch: 200, train loss: 0.00092, test loss: 0.00684\n",
      "Epoch: 300, train loss: 0.00076, test loss: 0.00745\n",
      "Epoch: 400, train loss: 0.00067, test loss: 0.00840\n",
      "Epoch: 500, train loss: 0.00056, test loss: 0.00936\n",
      "Epoch: 600, train loss: 0.00045, test loss: 0.01163\n",
      "Epoch: 700, train loss: 0.00038, test loss: 0.01251\n",
      "Epoch: 800, train loss: 0.00034, test loss: 0.01327\n",
      "Epoch: 900, train loss: 0.00032, test loss: 0.01322\n"
     ]
    },
    {
     "name": "stderr",
     "output_type": "stream",
     "text": [
      "[I 2024-12-09 12:06:34,377] Trial 38 finished with value: 0.013020157814025879 and parameters: {'lr': 0.0012624892042972543, 'hidden_size': 64, 'num_layers': 2, 'dropout': 0.35000000000000003}. Best is trial 0 with value: 0.0034854873083531857.\n"
     ]
    },
    {
     "name": "stdout",
     "output_type": "stream",
     "text": [
      "Epoch: 0, train loss: 0.48952, test loss: 0.68648\n",
      "Epoch: 100, train loss: 0.00115, test loss: 0.00104\n",
      "Epoch: 200, train loss: 0.00069, test loss: 0.00431\n",
      "Epoch: 300, train loss: 0.00062, test loss: 0.00473\n",
      "Epoch: 400, train loss: 0.00057, test loss: 0.00521\n",
      "Epoch: 500, train loss: 0.00052, test loss: 0.00524\n",
      "Epoch: 600, train loss: 0.00041, test loss: 0.00587\n",
      "Epoch: 700, train loss: 0.00037, test loss: 0.00687\n",
      "Epoch: 800, train loss: 0.00035, test loss: 0.00669\n",
      "Epoch: 900, train loss: 0.00033, test loss: 0.00535\n"
     ]
    },
    {
     "name": "stderr",
     "output_type": "stream",
     "text": [
      "[I 2024-12-09 12:06:39,775] Trial 39 finished with value: 0.0051467823795974255 and parameters: {'lr': 0.0030646419513512316, 'hidden_size': 32, 'num_layers': 3, 'dropout': 0.15000000000000002}. Best is trial 0 with value: 0.0034854873083531857.\n"
     ]
    },
    {
     "name": "stdout",
     "output_type": "stream",
     "text": [
      "Epoch: 0, train loss: 0.52014, test loss: 0.77492\n",
      "Epoch: 100, train loss: 0.00265, test loss: 0.04208\n",
      "Epoch: 200, train loss: 0.00168, test loss: 0.02932\n",
      "Epoch: 300, train loss: 0.00125, test loss: 0.02562\n",
      "Epoch: 400, train loss: 0.00100, test loss: 0.02454\n",
      "Epoch: 500, train loss: 0.00087, test loss: 0.02440\n",
      "Epoch: 600, train loss: 0.00075, test loss: 0.02478\n",
      "Epoch: 700, train loss: 0.00071, test loss: 0.02510\n",
      "Epoch: 800, train loss: 0.00063, test loss: 0.02523\n",
      "Epoch: 900, train loss: 0.00059, test loss: 0.02566\n"
     ]
    },
    {
     "name": "stderr",
     "output_type": "stream",
     "text": [
      "[I 2024-12-09 12:06:45,639] Trial 40 finished with value: 0.025913499295711517 and parameters: {'lr': 0.0002946840417505472, 'hidden_size': 64, 'num_layers': 2, 'dropout': 0.1}. Best is trial 0 with value: 0.0034854873083531857.\n"
     ]
    },
    {
     "name": "stdout",
     "output_type": "stream",
     "text": [
      "Epoch: 0, train loss: 0.50042, test loss: 0.74829\n",
      "Epoch: 100, train loss: 0.05899, test loss: 0.19008\n",
      "Epoch: 200, train loss: 0.00379, test loss: 0.06303\n",
      "Epoch: 300, train loss: 0.00249, test loss: 0.05030\n",
      "Epoch: 400, train loss: 0.00182, test loss: 0.04520\n",
      "Epoch: 500, train loss: 0.00155, test loss: 0.04471\n",
      "Epoch: 600, train loss: 0.00139, test loss: 0.04352\n",
      "Epoch: 700, train loss: 0.00125, test loss: 0.04154\n",
      "Epoch: 800, train loss: 0.00119, test loss: 0.03978\n",
      "Epoch: 900, train loss: 0.00115, test loss: 0.03829\n"
     ]
    },
    {
     "name": "stderr",
     "output_type": "stream",
     "text": [
      "[I 2024-12-09 12:06:49,944] Trial 41 finished with value: 0.0375836081802845 and parameters: {'lr': 0.00016212068751258213, 'hidden_size': 32, 'num_layers': 2, 'dropout': 0.2}. Best is trial 0 with value: 0.0034854873083531857.\n"
     ]
    },
    {
     "name": "stdout",
     "output_type": "stream",
     "text": [
      "Epoch: 0, train loss: 0.53548, test loss: 0.78487\n",
      "Epoch: 100, train loss: 0.00285, test loss: 0.01765\n",
      "Epoch: 200, train loss: 0.00152, test loss: 0.01331\n",
      "Epoch: 300, train loss: 0.00117, test loss: 0.01322\n",
      "Epoch: 400, train loss: 0.00103, test loss: 0.01275\n",
      "Epoch: 500, train loss: 0.00092, test loss: 0.01178\n",
      "Epoch: 600, train loss: 0.00082, test loss: 0.01144\n",
      "Epoch: 700, train loss: 0.00074, test loss: 0.01157\n",
      "Epoch: 800, train loss: 0.00069, test loss: 0.01090\n",
      "Epoch: 900, train loss: 0.00063, test loss: 0.01092\n"
     ]
    },
    {
     "name": "stderr",
     "output_type": "stream",
     "text": [
      "[I 2024-12-09 12:06:54,379] Trial 42 finished with value: 0.010845205746591091 and parameters: {'lr': 0.0005142085987547509, 'hidden_size': 32, 'num_layers': 2, 'dropout': 0.2}. Best is trial 0 with value: 0.0034854873083531857.\n"
     ]
    },
    {
     "name": "stdout",
     "output_type": "stream",
     "text": [
      "Epoch: 0, train loss: 0.49440, test loss: 0.73305\n",
      "Epoch: 100, train loss: 0.00631, test loss: 0.02238\n",
      "Epoch: 200, train loss: 0.00231, test loss: 0.00890\n",
      "Epoch: 300, train loss: 0.00157, test loss: 0.00685\n",
      "Epoch: 400, train loss: 0.00137, test loss: 0.00626\n",
      "Epoch: 500, train loss: 0.00112, test loss: 0.00583\n",
      "Epoch: 600, train loss: 0.00101, test loss: 0.00585\n",
      "Epoch: 700, train loss: 0.00093, test loss: 0.00591\n",
      "Epoch: 800, train loss: 0.00086, test loss: 0.00573\n",
      "Epoch: 900, train loss: 0.00080, test loss: 0.00570\n"
     ]
    },
    {
     "name": "stderr",
     "output_type": "stream",
     "text": [
      "[I 2024-12-09 12:06:58,702] Trial 43 finished with value: 0.006025996524840593 and parameters: {'lr': 0.00026326568379166565, 'hidden_size': 32, 'num_layers': 2, 'dropout': 0.2}. Best is trial 0 with value: 0.0034854873083531857.\n"
     ]
    },
    {
     "name": "stdout",
     "output_type": "stream",
     "text": [
      "Epoch: 0, train loss: 0.53532, test loss: 0.78458\n",
      "Epoch: 100, train loss: 0.00261, test loss: 0.00270\n",
      "Epoch: 200, train loss: 0.00174, test loss: 0.00373\n",
      "Epoch: 300, train loss: 0.00115, test loss: 0.00357\n",
      "Epoch: 400, train loss: 0.00094, test loss: 0.00333\n",
      "Epoch: 500, train loss: 0.00084, test loss: 0.00333\n",
      "Epoch: 600, train loss: 0.00078, test loss: 0.00381\n",
      "Epoch: 700, train loss: 0.00071, test loss: 0.00422\n",
      "Epoch: 800, train loss: 0.00068, test loss: 0.00441\n",
      "Epoch: 900, train loss: 0.00066, test loss: 0.00460\n"
     ]
    },
    {
     "name": "stderr",
     "output_type": "stream",
     "text": [
      "[I 2024-12-09 12:07:03,922] Trial 44 finished with value: 0.005201724357903004 and parameters: {'lr': 0.0007344578982452033, 'hidden_size': 32, 'num_layers': 3, 'dropout': 0.25}. Best is trial 0 with value: 0.0034854873083531857.\n"
     ]
    },
    {
     "name": "stdout",
     "output_type": "stream",
     "text": [
      "Epoch: 0, train loss: 0.56098, test loss: 0.81952\n",
      "Epoch: 100, train loss: 0.14699, test loss: 0.30109\n",
      "Epoch: 200, train loss: 0.00796, test loss: 0.07915\n",
      "Epoch: 300, train loss: 0.00400, test loss: 0.06242\n",
      "Epoch: 400, train loss: 0.00277, test loss: 0.04883\n",
      "Epoch: 500, train loss: 0.00221, test loss: 0.04100\n",
      "Epoch: 600, train loss: 0.00195, test loss: 0.03650\n",
      "Epoch: 700, train loss: 0.00181, test loss: 0.03437\n",
      "Epoch: 800, train loss: 0.00147, test loss: 0.03386\n",
      "Epoch: 900, train loss: 0.00133, test loss: 0.03397\n"
     ]
    },
    {
     "name": "stderr",
     "output_type": "stream",
     "text": [
      "[I 2024-12-09 12:07:07,706] Trial 45 finished with value: 0.033849094063043594 and parameters: {'lr': 0.000177146554168713, 'hidden_size': 16, 'num_layers': 2, 'dropout': 0.15000000000000002}. Best is trial 0 with value: 0.0034854873083531857.\n"
     ]
    },
    {
     "name": "stdout",
     "output_type": "stream",
     "text": [
      "Epoch: 0, train loss: 0.54597, test loss: 0.76922\n",
      "Epoch: 100, train loss: 0.00150, test loss: 0.00656\n",
      "Epoch: 200, train loss: 0.00092, test loss: 0.00433\n",
      "Epoch: 300, train loss: 0.00079, test loss: 0.00400\n",
      "Epoch: 400, train loss: 0.00068, test loss: 0.00338\n",
      "Epoch: 500, train loss: 0.00062, test loss: 0.00325\n",
      "Epoch: 600, train loss: 0.00054, test loss: 0.00297\n",
      "Epoch: 700, train loss: 0.00048, test loss: 0.00301\n",
      "Epoch: 800, train loss: 0.00043, test loss: 0.00323\n",
      "Epoch: 900, train loss: 0.00039, test loss: 0.00332\n"
     ]
    },
    {
     "name": "stderr",
     "output_type": "stream",
     "text": [
      "[I 2024-12-09 12:07:13,123] Trial 46 finished with value: 0.0034533883444964886 and parameters: {'lr': 0.0017004043789891313, 'hidden_size': 32, 'num_layers': 3, 'dropout': 0.2}. Best is trial 46 with value: 0.0034533883444964886.\n"
     ]
    },
    {
     "name": "stdout",
     "output_type": "stream",
     "text": [
      "Epoch: 0, train loss: 0.51205, test loss: 0.73898\n",
      "Epoch: 100, train loss: 0.00161, test loss: 0.00087\n",
      "Epoch: 200, train loss: 0.00104, test loss: 0.00335\n",
      "Epoch: 300, train loss: 0.00084, test loss: 0.00484\n",
      "Epoch: 400, train loss: 0.00072, test loss: 0.00473\n",
      "Epoch: 500, train loss: 0.00064, test loss: 0.00561\n",
      "Epoch: 600, train loss: 0.00060, test loss: 0.00733\n",
      "Epoch: 700, train loss: 0.00052, test loss: 0.00977\n",
      "Epoch: 800, train loss: 0.00046, test loss: 0.01102\n",
      "Epoch: 900, train loss: 0.00042, test loss: 0.01170\n"
     ]
    },
    {
     "name": "stderr",
     "output_type": "stream",
     "text": [
      "[I 2024-12-09 12:07:18,384] Trial 47 finished with value: 0.012289438396692276 and parameters: {'lr': 0.0017923856789529861, 'hidden_size': 32, 'num_layers': 3, 'dropout': 0.25}. Best is trial 46 with value: 0.0034533883444964886.\n"
     ]
    },
    {
     "name": "stdout",
     "output_type": "stream",
     "text": [
      "Epoch: 0, train loss: 0.54313, test loss: 0.75386\n",
      "Epoch: 100, train loss: 0.00097, test loss: 0.00217\n",
      "Epoch: 200, train loss: 0.00067, test loss: 0.00343\n",
      "Epoch: 300, train loss: 0.00056, test loss: 0.00378\n",
      "Epoch: 400, train loss: 0.00050, test loss: 0.00417\n",
      "Epoch: 500, train loss: 0.00040, test loss: 0.00457\n",
      "Epoch: 600, train loss: 0.00033, test loss: 0.00470\n",
      "Epoch: 700, train loss: 0.00031, test loss: 0.00474\n",
      "Epoch: 800, train loss: 0.00029, test loss: 0.00480\n",
      "Epoch: 900, train loss: 0.00028, test loss: 0.00493\n"
     ]
    },
    {
     "name": "stderr",
     "output_type": "stream",
     "text": [
      "[I 2024-12-09 12:07:26,520] Trial 48 finished with value: 0.004744392354041338 and parameters: {'lr': 0.0025389776900553843, 'hidden_size': 64, 'num_layers': 3, 'dropout': 0.15000000000000002}. Best is trial 46 with value: 0.0034533883444964886.\n"
     ]
    },
    {
     "name": "stdout",
     "output_type": "stream",
     "text": [
      "Epoch: 0, train loss: 0.50679, test loss: 0.73109\n",
      "Epoch: 100, train loss: 0.00236, test loss: 0.00670\n",
      "Epoch: 200, train loss: 0.00139, test loss: 0.00726\n",
      "Epoch: 300, train loss: 0.00114, test loss: 0.00908\n",
      "Epoch: 400, train loss: 0.00092, test loss: 0.00912\n",
      "Epoch: 500, train loss: 0.00080, test loss: 0.00958\n",
      "Epoch: 600, train loss: 0.00071, test loss: 0.01002\n",
      "Epoch: 700, train loss: 0.00066, test loss: 0.01057\n",
      "Epoch: 800, train loss: 0.00062, test loss: 0.01066\n",
      "Epoch: 900, train loss: 0.00060, test loss: 0.01102\n"
     ]
    },
    {
     "name": "stderr",
     "output_type": "stream",
     "text": [
      "[I 2024-12-09 12:07:31,213] Trial 49 finished with value: 0.01116769015789032 and parameters: {'lr': 0.0014040084200322403, 'hidden_size': 16, 'num_layers': 3, 'dropout': 0.30000000000000004}. Best is trial 46 with value: 0.0034533883444964886.\n"
     ]
    },
    {
     "name": "stdout",
     "output_type": "stream",
     "text": [
      "Best parameters: {'lr': 0.0017004043789891313, 'hidden_size': 32, 'num_layers': 3, 'dropout': 0.2}\n"
     ]
    }
   ],
   "source": [
    "import optuna\n",
    "## Optuna uses Bayesian Optimization to hyperparameter tune\n",
    "\n",
    "def objective(trial):\n",
    "    # Suggest hyperparameters\n",
    "    lr = trial.suggest_loguniform('lr', 1e-4, 1e-2)\n",
    "    hidden_size = trial.suggest_categorical('hidden_size', [16, 32, 64])\n",
    "    num_layers = trial.suggest_int('num_layers', 1, 3)\n",
    "    dropout = trial.suggest_float(\"dropout\", low = 0.0, high = 0.4, step = 0.05, log = False)\n",
    "\n",
    "    # Create the model\n",
    "    model = LSTM(num_classes, input_size, hidden_size, num_layers, dropout).to(device)\n",
    "    optimizer = torch.optim.Adam(model.parameters(), lr=lr)\n",
    "    loss_fn = torch.nn.MSELoss()\n",
    "\n",
    "    # Train the model\n",
    "    training_loop(n_epochs=1000, lstm=model, optimiser=optimizer, loss_fn=loss_fn,\n",
    "                  X_train=X_train_tensors_final, y_train=y_train_tensors,\n",
    "                  X_test=X_test_tensors_final, y_test=y_test_tensors)\n",
    "    \n",
    "    # Evaluate the model\n",
    "    model.eval()\n",
    "    with torch.no_grad():\n",
    "        val_preds = model(X_test_tensors_final)\n",
    "        val_loss = loss_fn(val_preds, y_test_tensors).item()\n",
    "\n",
    "    return val_loss\n",
    "\n",
    "study = optuna.create_study(direction='minimize')\n",
    "study.optimize(objective, n_trials=50)\n",
    "\n",
    "print(\"Best parameters:\", study.best_params)"
   ]
  },
  {
   "cell_type": "code",
   "execution_count": null,
   "metadata": {},
   "outputs": [
    {
     "name": "stdout",
     "output_type": "stream",
     "text": [
      "Best Hyperparameters: {'lr': 0.0017004043789891313, 'hidden_size': 32, 'num_layers': 3, 'dropout': 0.2}\n",
      "Epoch: 0, train loss: 0.57935, test loss: 0.81919\n",
      "Epoch: 100, train loss: 0.00177, test loss: 0.00179\n",
      "Epoch: 200, train loss: 0.00090, test loss: 0.00093\n",
      "Epoch: 300, train loss: 0.00073, test loss: 0.00114\n",
      "Epoch: 400, train loss: 0.00064, test loss: 0.00130\n",
      "Epoch: 500, train loss: 0.00060, test loss: 0.00146\n",
      "Epoch: 600, train loss: 0.00050, test loss: 0.00163\n",
      "Epoch: 700, train loss: 0.00044, test loss: 0.00179\n",
      "Epoch: 800, train loss: 0.00042, test loss: 0.00194\n",
      "Epoch: 900, train loss: 0.00036, test loss: 0.00220\n",
      "Train Loss: 0.00027268024859949946 ; Test Loss: 0.0021761003881692886\n"
     ]
    }
   ],
   "source": [
    "best_params = study.best_params\n",
    "print(f\"Best Hyperparameters: {best_params}\")\n",
    "\n",
    "# Initialize model with best hyperparameters\n",
    "optimal_model = LSTM(\n",
    "    num_classes=y_train_tensors.shape[1],\n",
    "    input_size=X_train_tensors_final.shape[2],\n",
    "    hidden_size=best_params['hidden_size'],\n",
    "    num_layers=best_params['num_layers'],\n",
    "    dropout=best_params['dropout']\n",
    ").to(device)\n",
    "\n",
    "# Set up optimizer and loss function\n",
    "optimizer = torch.optim.Adam(optimal_model.parameters(), lr=best_params['lr'])\n",
    "loss_fn = torch.nn.MSELoss()\n",
    "\n",
    "# Train the model\n",
    "training_loop(\n",
    "    n_epochs=1000,  # You can adjust this based on your training needs\n",
    "    lstm=optimal_model,\n",
    "    optimiser=optimizer,\n",
    "    loss_fn=loss_fn,\n",
    "    X_train=X_train_tensors_final,\n",
    "    y_train=y_train_tensors,\n",
    "    X_test=X_test_tensors_final,\n",
    "    y_test=y_test_tensors\n",
    ")\n",
    "\n",
    "# Switch to evaluation mode\n",
    "optimal_model.eval()\n",
    "\n",
    "# Get predictions for the training set\n",
    "with torch.no_grad():  # Disable gradient calculations\n",
    "    train_preds = optimal_model(X_train_tensors_final)  # Shape: (batch_size, num_classes)\n",
    "    train_loss = loss_fn(train_preds, y_train_tensors).item()  # Test loss\n",
    "\n",
    "\n",
    "# Evaluate on the test set\n",
    "with torch.no_grad():\n",
    "    test_preds = optimal_model(X_test_tensors_final)  # Predictions\n",
    "    test_loss = loss_fn(test_preds, y_test_tensors).item()  # Test loss\n",
    "\n",
    "\n",
    "print(f\"Train Loss: {train_loss} ; Test Loss: {test_loss}\")"
   ]
  },
  {
   "cell_type": "code",
   "execution_count": 79,
   "metadata": {},
   "outputs": [
    {
     "data": {
      "image/png": "[encoded data removed]",
      "text/plain": [
       "<Figure size 1000x600 with 1 Axes>"
      ]
     },
     "metadata": {},
     "output_type": "display_data"
    }
   ],
   "source": [
    "df_X_ss = ss.transform(X) # old transformers\n",
    "df_y_mm = mm.transform(y.reshape(-1, 1)) # old transformers\n",
    "# split the sequence\n",
    "df_X_ss, df_y_mm = split_sequences(df_X_ss, df_y_mm, n_steps_in, n_steps_out)\n",
    "# converting to tensors\n",
    "df_X_ss = (torch.Tensor(df_X_ss))\n",
    "df_y_mm = (torch.Tensor(df_y_mm))\n",
    "# reshaping the dataset\n",
    "df_X_ss = torch.reshape(df_X_ss, (df_X_ss.shape[0], n_steps_in, df_X_ss.shape[2])).to(device)\n",
    "\n",
    "train_predict = optimal_model(df_X_ss) # forward pass\n",
    "data_predict = train_predict.cpu().data.numpy() # move to cpu then to numpy conversion\n",
    "dataY_plot = df_y_mm.data.cpu().numpy()\n",
    "\n",
    "data_predict = mm.inverse_transform(data_predict) # reverse transformation\n",
    "dataY_plot = mm.inverse_transform(dataY_plot)\n",
    "true, preds = [], []\n",
    "for i in range(len(dataY_plot)):\n",
    "    true.append(dataY_plot[i][0])\n",
    "for i in range(len(data_predict)):\n",
    "    preds.append(data_predict[i][0])\n",
    "plt.figure(figsize=(10,6)) #plotting\n",
    "plt.axvline(x=train_test_cutoff, c='r', linestyle='--') # size of the training set\n",
    "\n",
    "plt.plot(true, label='Actual Data') # actual plot\n",
    "plt.plot(preds, label='Predicted Data') # predicted plot\n",
    "plt.title('Time-Series Prediction')\n",
    "plt.legend()\n",
    "plt.savefig(\"whole_plot.png\", dpi=300)\n",
    "plt.show() "
   ]
  },
  {
   "cell_type": "code",
   "execution_count": 83,
   "metadata": {},
   "outputs": [
    {
     "data": {
      "image/png": "[encoded data removed]",
      "text/plain": [
       "<Figure size 640x480 with 1 Axes>"
      ]
     },
     "metadata": {},
     "output_type": "display_data"
    }
   ],
   "source": [
    "test_predict = lstm(X_test_tensors_final[-1].unsqueeze(0)) # get the last sample\n",
    "test_predict = test_predict.cpu().detach().numpy()\n",
    "test_predict = mm.inverse_transform(test_predict)\n",
    "test_predict = test_predict[0].tolist()\n",
    "\n",
    "test_target = y_test_tensors[-1].cpu().detach().numpy() # last sample again\n",
    "test_target = mm.inverse_transform(test_target.reshape(1, -1))\n",
    "test_target = test_target[0].tolist()\n",
    "\n",
    "plt.plot(test_target, label=\"Actual Data\")\n",
    "plt.plot(test_predict, label=\"LSTM Predictions\")\n",
    "plt.savefig(\"small_plot.png\", dpi=300)\n",
    "plt.show();"
   ]
  },
  {
   "cell_type": "markdown",
   "metadata": {},
   "source": [
    "Load Model so don;t have to re-train\n",
    "```python \n",
    "loaded_model = LSTM(\n",
    "    num_classes=y_train_tensors.shape[1],\n",
    "    input_size=X_train_tensors_final.shape[2],\n",
    "    hidden_size=best_params['hidden_size'],\n",
    "    num_layers=best_params['num_layers'],\n",
    "    dropout=best_params['dropout']\n",
    ").to(device)\n",
    "\n",
    "loaded_model.load_state_dict(torch.load(\"optimal_lstm_model.pth\"))\n",
    "loaded_model.eval()\n",
    "```"
   ]
  },
  {
   "cell_type": "code",
   "execution_count": null,
   "metadata": {},
   "outputs": [],
   "source": [
    "loaded_model = LSTM(\n",
    "    num_classes=y_train_tensors.shape[1],\n",
    "    input_size=X_train_tensors_final.shape[2],\n",
    "    hidden_size=best_params['hidden_size'],\n",
    "    num_layers=best_params['num_layers'],\n",
    "    dropout=best_params['dropout']\n",
    ").to(device)\n",
    "\n",
    "loaded_model.load_state_dict(torch.load(\"optimal_lstm_model.pth\"))\n",
    "loaded_model.eval()"
   ]
  },
  {
   "cell_type": "markdown",
   "metadata": {},
   "source": [
    "### Metrics"
   ]
  },
  {
   "cell_type": "code",
   "execution_count": 95,
   "metadata": {},
   "outputs": [
    {
     "name": "stdout",
     "output_type": "stream",
     "text": [
      "Training MSE: 0.00027268 ; Test MSE: 0.00217610\n"
     ]
    }
   ],
   "source": [
    "from sklearn.metrics import mean_squared_error, mean_absolute_percentage_error\n",
    "\n",
    "# Convert tensors to numpy arrays\n",
    "y_train_np = y_train_tensors.cpu().numpy()\n",
    "y_test_np = y_test_tensors.cpu().numpy()\n",
    "train_preds_np = train_preds.cpu().numpy()\n",
    "test_preds_np = test_preds.cpu().numpy()\n",
    "\n",
    "# Calculate MSE for training and test sets\n",
    "train_mse = mean_squared_error(y_train_np, train_preds_np)\n",
    "test_mse = mean_squared_error(y_test_np, test_preds_np)\n",
    "\n",
    "print(f\"Training MSE: {train_mse:.8f} ; Test MSE: {test_mse:.8f}\")"
   ]
  },
  {
   "cell_type": "code",
   "execution_count": 89,
   "metadata": {},
   "outputs": [
    {
     "data": {
      "text/plain": [
       "430082720000.0"
      ]
     },
     "execution_count": 89,
     "metadata": {},
     "output_type": "execute_result"
    }
   ],
   "source": [
    "mean_absolute_percentage_error(y_train_tensors.cpu().numpy(), train_preds.cpu().numpy())"
   ]
  }
 ],
 "metadata": {
  "kernelspec": {
   "display_name": "Python 3 (ipykernel)",
   "language": "python",
   "name": "python3"
  },
  "language_info": {
   "codemirror_mode": {
    "name": "ipython",
    "version": 3
   },
   "file_extension": ".py",
   "mimetype": "text/x-python",
   "name": "python",
   "nbconvert_exporter": "python",
   "pygments_lexer": "ipython3",
   "version": "3.12.4"
  }
 },
 "nbformat": 4,
 "nbformat_minor": 4
}
