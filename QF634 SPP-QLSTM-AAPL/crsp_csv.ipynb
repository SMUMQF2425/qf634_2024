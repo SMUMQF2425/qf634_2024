{
 "cells": [
  {
   "cell_type": "code",
   "execution_count": 1,
   "id": "144a7531-801e-4a3e-bdce-6c7b41641231",
   "metadata": {},
   "outputs": [
    {
     "name": "stdout",
     "output_type": "stream",
     "text": [
      "yfinance: pandas_datareader support is deprecated & semi-broken so will be removed in a future verison. Just use yfinance.\n"
     ]
    },
    {
     "name": "stdin",
     "output_type": "stream",
     "text": [
      "Enter your WRDS username [ch0002techvc]: ch0002ic\n",
      "Enter your password: ········\n"
     ]
    },
    {
     "name": "stdout",
     "output_type": "stream",
     "text": [
      "WRDS recommends setting up a .pgpass file.\n"
     ]
    },
    {
     "name": "stdin",
     "output_type": "stream",
     "text": [
      "Create .pgpass file now [y/n]?:  y\n"
     ]
    },
    {
     "name": "stdout",
     "output_type": "stream",
     "text": [
      "Created .pgpass file successfully.\n",
      "You can create this file yourself at any time with the create_pgpass_file() function.\n",
      "Loading library list...\n",
      "Done\n"
     ]
    }
   ],
   "source": [
    "import pandas as pd\n",
    "\n",
    "import time\n",
    "import numpy as np\n",
    "import math\n",
    "import matplotlib.pyplot as plt\n",
    "\n",
    "import torch\n",
    "from torch.utils.data import DataLoader\n",
    "from torch import nn\n",
    "\n",
    "import datetime as dt\n",
    "\n",
    "from QLSTM import SequenceDataset\n",
    "from QLSTM_Noisy import SequenceDataset\n",
    "\n",
    "import yfinance as yf\n",
    "from pandas_datareader import data as pdr\n",
    "yf.pdr_override()\n",
    "\n",
    "from QLSTM import QShallowRegressionLSTM\n",
    "\n",
    "# Calculate the RMSE for the train and test data\n",
    "from sklearn.metrics import mean_squared_error\n",
    "\n",
    "import wrds\n",
    "\n",
    "# Connect to WRDS\n",
    "db = wrds.Connection()"
   ]
  },
  {
   "cell_type": "code",
   "execution_count": null,
   "id": "9e12a6fb-692d-4204-ac48-010c47dcbdaa",
   "metadata": {},
   "outputs": [],
   "source": [
    "# Define CRSP table and columns of interest\n",
    "table = \"dsf\"  # Example daily stock file table\n",
    "columns = [\"permno\", \"date\", \"bidlo\", \"askhi\", \"prc\", \"vol\"]\n",
    "\n",
    "# Query CRSP table for the required data\n",
    "query = f\"\"\"\n",
    "    SELECT {', '.join(columns)}\n",
    "    FROM crsp.{table}\n",
    "    WHERE date BETWEEN '2021-12-31' AND '2022-12-31'\n",
    "\"\"\"\n",
    "crsp_data = db.raw_sql(query)\n",
    "\n",
    "# Process the data: Extract 'Open', 'High', 'Low', 'Close' prices\n",
    "# For CRSP, these are approximations: 'bidlo' as Low, 'askhi' as High, and 'prc' as Close\n",
    "crsp_data.rename(columns={'bidlo': 'Low', 'askhi': 'High', 'prc': 'Close'}, inplace=True)\n",
    "\n",
    "# Note: CRSP does not explicitly provide 'Open' prices in its dataset\n",
    "# Shift 'Close' to create 'Open' prices for each permno\n",
    "crsp_data['Open'] = crsp_data.groupby('permno')['Close'].shift(1)\n",
    "\n",
    "# Drop the first row for each permno as it will have NaN 'Open' prices\n",
    "crsp_data = crsp_data.dropna(subset=['Open'])\n",
    "crsp_data.to_csv(\"crsp_data.csv\", index=False)"
   ]
  }
 ],
 "metadata": {
  "kernelspec": {
   "display_name": "Python 3 (ipykernel)",
   "language": "python",
   "name": "python3"
  },
  "language_info": {
   "codemirror_mode": {
    "name": "ipython",
    "version": 3
   },
   "file_extension": ".py",
   "mimetype": "text/x-python",
   "name": "python",
   "nbconvert_exporter": "python",
   "pygments_lexer": "ipython3",
   "version": "3.12.4"
  }
 },
 "nbformat": 4,
 "nbformat_minor": 5
}
